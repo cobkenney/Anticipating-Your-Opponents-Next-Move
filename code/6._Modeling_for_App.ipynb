{
 "cells": [
  {
   "cell_type": "markdown",
   "metadata": {},
   "source": [
    "# Modeling for App"
   ]
  },
  {
   "cell_type": "markdown",
   "metadata": {},
   "source": [
    "In this section, I aim to simplify the model and \"pickle\" said model for a simple application demo of the model. We want to simplify the model because the application will require a user to input features. If the user has to enter a large number of features, the application is more frustrating and less useful.\n",
    "\n",
    "**Please Note: Restarting this notebook will cause errors in the code since all the data is not stored locally.**"
   ]
  },
  {
   "cell_type": "markdown",
   "metadata": {},
   "source": [
    "### Contents\n",
    "\n",
    "[Simplifying the Model](#Simplifying-the-Model)<br>\n",
    "[Pickling Model](#Pickling-Model)"
   ]
  },
  {
   "cell_type": "code",
   "execution_count": 1,
   "metadata": {},
   "outputs": [],
   "source": [
    "import pandas as pd\n",
    "import s3fs\n",
    "\n",
    "from sklearn.model_selection import train_test_split\n",
    "import xgboost as xgb\n",
    "\n",
    "import pickle\n",
    "\n",
    "import warnings\n",
    "warnings.filterwarnings(\"ignore\")"
   ]
  },
  {
   "cell_type": "code",
   "execution_count": 2,
   "metadata": {},
   "outputs": [],
   "source": [
    "fs = s3fs.S3FileSystem(anon=False,key='AWS KEY',secret='AWS SECRET KEY')\n",
    "\n",
    "key = 'nfl_play_by_play_with_weather_model.csv'\n",
    "bucket = 'nfl-play-by-play-capstone'\n",
    "\n",
    "df = pd.read_csv(fs.open('{}/{}'.format(bucket, key),\n",
    "                         mode='rb')).drop(columns=['Unnamed: 0'])"
   ]
  },
  {
   "cell_type": "markdown",
   "metadata": {},
   "source": [
    "### Simplifying the Model"
   ]
  },
  {
   "cell_type": "markdown",
   "metadata": {},
   "source": [
    "In this section, I will choose a select few features that have the most predictive power. The original model has a little over 100 features (about 60 of which just indicate who is one offense and who is on defense). Reducing the features to only 8 achieves almost exactly the same accuracy."
   ]
  },
  {
   "cell_type": "code",
   "execution_count": 3,
   "metadata": {},
   "outputs": [],
   "source": [
    "X = df[['down','qtr','game_seconds_remaining','half_seconds_remaining','quarter_seconds_remaining','ydstogo',\n",
    "        'score_differential','yardline_100']].values\n",
    "y = df['effective_run']\n",
    "X_train, X_test, y_train, y_test = train_test_split(X,y, random_state=42)"
   ]
  },
  {
   "cell_type": "code",
   "execution_count": 4,
   "metadata": {},
   "outputs": [
    {
     "name": "stdout",
     "output_type": "stream",
     "text": [
      "[0]\tvalidation_0-error:0.308283\n",
      "Will train until validation_0-error hasn't improved in 5 rounds.\n",
      "[1]\tvalidation_0-error:0.307261\n",
      "[2]\tvalidation_0-error:0.304791\n",
      "[3]\tvalidation_0-error:0.304541\n",
      "[4]\tvalidation_0-error:0.302945\n",
      "[5]\tvalidation_0-error:0.302608\n",
      "[6]\tvalidation_0-error:0.302733\n",
      "[7]\tvalidation_0-error:0.302496\n",
      "[8]\tvalidation_0-error:0.302346\n",
      "[9]\tvalidation_0-error:0.302022\n",
      "[10]\tvalidation_0-error:0.302359\n",
      "[11]\tvalidation_0-error:0.302359\n",
      "[12]\tvalidation_0-error:0.301797\n",
      "[13]\tvalidation_0-error:0.30191\n",
      "[14]\tvalidation_0-error:0.302072\n",
      "[15]\tvalidation_0-error:0.302034\n",
      "[16]\tvalidation_0-error:0.30176\n",
      "[17]\tvalidation_0-error:0.301523\n",
      "[18]\tvalidation_0-error:0.301386\n",
      "[19]\tvalidation_0-error:0.301024\n",
      "[20]\tvalidation_0-error:0.300874\n",
      "[21]\tvalidation_0-error:0.300912\n",
      "[22]\tvalidation_0-error:0.300762\n",
      "[23]\tvalidation_0-error:0.300475\n",
      "[24]\tvalidation_0-error:0.300587\n",
      "[25]\tvalidation_0-error:0.300787\n",
      "[26]\tvalidation_0-error:0.300637\n",
      "[27]\tvalidation_0-error:0.300563\n",
      "[28]\tvalidation_0-error:0.300288\n",
      "[29]\tvalidation_0-error:0.300288\n",
      "[30]\tvalidation_0-error:0.300276\n",
      "[31]\tvalidation_0-error:0.299689\n",
      "[32]\tvalidation_0-error:0.299764\n",
      "[33]\tvalidation_0-error:0.299527\n",
      "[34]\tvalidation_0-error:0.299627\n",
      "[35]\tvalidation_0-error:0.299752\n",
      "[36]\tvalidation_0-error:0.299714\n",
      "[37]\tvalidation_0-error:0.299278\n",
      "[38]\tvalidation_0-error:0.299403\n",
      "[39]\tvalidation_0-error:0.299403\n",
      "[40]\tvalidation_0-error:0.29929\n",
      "[41]\tvalidation_0-error:0.299066\n",
      "[42]\tvalidation_0-error:0.29929\n",
      "[43]\tvalidation_0-error:0.299128\n",
      "[44]\tvalidation_0-error:0.299016\n",
      "[45]\tvalidation_0-error:0.299003\n",
      "[46]\tvalidation_0-error:0.298916\n",
      "[47]\tvalidation_0-error:0.299128\n",
      "[48]\tvalidation_0-error:0.299141\n",
      "[49]\tvalidation_0-error:0.299116\n",
      "[50]\tvalidation_0-error:0.298891\n",
      "[51]\tvalidation_0-error:0.298841\n",
      "[52]\tvalidation_0-error:0.298804\n",
      "[53]\tvalidation_0-error:0.298929\n",
      "[54]\tvalidation_0-error:0.298929\n",
      "[55]\tvalidation_0-error:0.298879\n",
      "[56]\tvalidation_0-error:0.298954\n",
      "[57]\tvalidation_0-error:0.299016\n",
      "Stopping. Best iteration:\n",
      "[52]\tvalidation_0-error:0.298804\n",
      "\n"
     ]
    },
    {
     "data": {
      "text/plain": [
       "XGBClassifier(base_score=0.5, booster='gbtree', colsample_bylevel=1,\n",
       "       colsample_bynode=1, colsample_bytree=1, eval_metric=['error'],\n",
       "       gamma=0, learning_rate=0.1, max_delta_step=0, max_depth=8,\n",
       "       min_child_weight=1, missing=None, n_estimators=100, n_jobs=1,\n",
       "       nthread=None, objective='binary:logistic', random_state=42,\n",
       "       reg_alpha=0, reg_lambda=1, scale_pos_weight=1, seed=None,\n",
       "       silent=None, subsample=0.7, verbosity=1)"
      ]
     },
     "execution_count": 4,
     "metadata": {},
     "output_type": "execute_result"
    }
   ],
   "source": [
    "xgb_model = xgb.XGBClassifier(objective=\"binary:logistic\", random_state=42, \n",
    "                              eval_metric=[\"error\"], max_depth = 8, subsample=0.7)\n",
    "xgb_model.fit(X_train, y_train, early_stopping_rounds=5,eval_set=[(X_test, y_test)])"
   ]
  },
  {
   "cell_type": "code",
   "execution_count": 5,
   "metadata": {
    "scrolled": true
   },
   "outputs": [
    {
     "name": "stdout",
     "output_type": "stream",
     "text": [
      "Test Accuracy Score: 0.7011961632968705\n",
      "Train Accuracy Score: 0.7125109659608261\n"
     ]
    }
   ],
   "source": [
    "print(f\"Test Accuracy Score: {xgb_model.score(X_test,y_test)}\")\n",
    "print(f\"Train Accuracy Score: {xgb_model.score(X_train,y_train)}\")"
   ]
  },
  {
   "cell_type": "markdown",
   "metadata": {},
   "source": [
    "As you can see, the simple model achieves almost the same accuracy with much less information. The less inputs we have, the easier the application will run."
   ]
  },
  {
   "cell_type": "markdown",
   "metadata": {},
   "source": [
    "### Pickling Model"
   ]
  },
  {
   "cell_type": "markdown",
   "metadata": {},
   "source": [
    "Pickling the model is only one line of code, but essentially this stores the model so we can call it elsewhere and make predictions."
   ]
  },
  {
   "cell_type": "code",
   "execution_count": 6,
   "metadata": {},
   "outputs": [],
   "source": [
    "pickle.dump(xgb_model, open('../app/model.p', 'wb'))"
   ]
  }
 ],
 "metadata": {
  "kernelspec": {
   "display_name": "Python 3",
   "language": "python",
   "name": "python3"
  },
  "language_info": {
   "codemirror_mode": {
    "name": "ipython",
    "version": 3
   },
   "file_extension": ".py",
   "mimetype": "text/x-python",
   "name": "python",
   "nbconvert_exporter": "python",
   "pygments_lexer": "ipython3",
   "version": "3.6.8"
  }
 },
 "nbformat": 4,
 "nbformat_minor": 2
}
