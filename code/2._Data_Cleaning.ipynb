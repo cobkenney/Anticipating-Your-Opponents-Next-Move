{
 "cells": [
  {
   "cell_type": "markdown",
   "metadata": {},
   "source": [
    "# Data Cleaning"
   ]
  },
  {
   "cell_type": "markdown",
   "metadata": {},
   "source": [
    "This notebook aims to clean up the play-by-play dataset. There are over 200 features in the dataset, but the first step is determining which of these features are established before the play occurs vs. after the play occurs. The next step is dealing with the non-numeric variables in the data. Finally, I take a look at the nulls.\n",
    "\n",
    "**Please Note: Restarting this notebook will cause errors in the code since all the data is not stored locally.**"
   ]
  },
  {
   "cell_type": "markdown",
   "metadata": {},
   "source": [
    "## Contents\n",
    "[Eliminating Post-play Features](#Eliminating-Post-play-Features)<br>\n",
    "[Non-Numeric Variables](#Non-Numeric-Variables)<br>\n",
    "[Dealing with Nulls](#Dealing-with-Nulls)"
   ]
  },
  {
   "cell_type": "code",
   "execution_count": 1,
   "metadata": {},
   "outputs": [],
   "source": [
    "import pandas as pd\n",
    "import s3fs\n",
    "import numpy as np\n",
    "\n",
    "pd.set_option('display.max_columns', 999)\n",
    "pd.set_option('display.max_rows', 999999)\n",
    "\n",
    "import warnings\n",
    "warnings.filterwarnings('ignore')"
   ]
  },
  {
   "cell_type": "code",
   "execution_count": 2,
   "metadata": {},
   "outputs": [],
   "source": [
    "fs = s3fs.S3FileSystem(anon=False,key='AWS KEY',secret='AWS SECRET KEY')\n",
    "\n",
    "key = 'nfl_play_by_play_with_weather_2009_2018.csv'\n",
    "bucket = 'nfl-play-by-play-capstone'\n",
    "\n",
    "df = pd.read_csv(fs.open('{}/{}'.format(bucket, key),\n",
    "                         mode='rb'))"
   ]
  },
  {
   "cell_type": "markdown",
   "metadata": {},
   "source": [
    "### Eliminating Post-play Features"
   ]
  },
  {
   "cell_type": "markdown",
   "metadata": {},
   "source": [
    "There are more than 250 variables in this dataset, but many of these variables are information gained after the play occurred. For example, incomplete_pass refers to whether or not a pass was completed on that play. If we are predicting play type, we can't use this information because we would not have it prior to the play. I narrowed the dataframe down to features that are considered pre-play using the definitions of variables found [here](https://github.com/maksimhorowitz/nflscrapR/blob/master/R/scrape_play_by_play.R)."
   ]
  },
  {
   "cell_type": "code",
   "execution_count": 3,
   "metadata": {},
   "outputs": [],
   "source": [
    "df = df[['forecast', 'week', 'wind', 'year','game_id','home_team','away_team','posteam','posteam_type','defteam',\n",
    "         'side_of_field','yardline_100','game_date','quarter_seconds_remaining','half_seconds_remaining',\n",
    "         'game_seconds_remaining','game_half','quarter_end','drive','qtr','down','goal_to_go','time','yrdln',\n",
    "         'ydstogo','desc','play_type','home_timeouts_remaining','away_timeouts_remaining',\n",
    "         'posteam_timeouts_remaining','defteam_timeouts_remaining','total_home_score','total_away_score',\n",
    "         'posteam_score','defteam_score','score_differential','wp']]"
   ]
  },
  {
   "cell_type": "markdown",
   "metadata": {},
   "source": [
    "### Non-Numeric Variables"
   ]
  },
  {
   "cell_type": "markdown",
   "metadata": {},
   "source": [
    "In this section, I want to look at the non-numeric data. I will need to do one of three things to these variables: ignore them, extract numeric data from strings, or dummy the columns. First, let's look at the non-numeric columns."
   ]
  },
  {
   "cell_type": "code",
   "execution_count": 4,
   "metadata": {},
   "outputs": [
    {
     "data": {
      "text/plain": [
       "Index(['forecast', 'wind', 'home_team', 'away_team', 'posteam', 'posteam_type',\n",
       "       'defteam', 'side_of_field', 'game_date', 'game_half', 'time', 'yrdln',\n",
       "       'desc', 'play_type'],\n",
       "      dtype='object')"
      ]
     },
     "execution_count": 4,
     "metadata": {},
     "output_type": "execute_result"
    }
   ],
   "source": [
    "df.select_dtypes(include = 'object').columns"
   ]
  },
  {
   "cell_type": "code",
   "execution_count": 5,
   "metadata": {
    "scrolled": true
   },
   "outputs": [
    {
     "data": {
      "text/html": [
       "<div>\n",
       "<style scoped>\n",
       "    .dataframe tbody tr th:only-of-type {\n",
       "        vertical-align: middle;\n",
       "    }\n",
       "\n",
       "    .dataframe tbody tr th {\n",
       "        vertical-align: top;\n",
       "    }\n",
       "\n",
       "    .dataframe thead th {\n",
       "        text-align: right;\n",
       "    }\n",
       "</style>\n",
       "<table border=\"1\" class=\"dataframe\">\n",
       "  <thead>\n",
       "    <tr style=\"text-align: right;\">\n",
       "      <th></th>\n",
       "      <th>forecast</th>\n",
       "      <th>wind</th>\n",
       "      <th>home_team</th>\n",
       "      <th>away_team</th>\n",
       "      <th>posteam</th>\n",
       "      <th>posteam_type</th>\n",
       "      <th>defteam</th>\n",
       "      <th>side_of_field</th>\n",
       "      <th>game_date</th>\n",
       "      <th>game_half</th>\n",
       "      <th>time</th>\n",
       "      <th>yrdln</th>\n",
       "      <th>desc</th>\n",
       "      <th>play_type</th>\n",
       "    </tr>\n",
       "  </thead>\n",
       "  <tbody>\n",
       "    <tr>\n",
       "      <th>0</th>\n",
       "      <td>67f Mostly Cloudy</td>\n",
       "      <td>NaN</td>\n",
       "      <td>PIT</td>\n",
       "      <td>TEN</td>\n",
       "      <td>PIT</td>\n",
       "      <td>home</td>\n",
       "      <td>TEN</td>\n",
       "      <td>TEN</td>\n",
       "      <td>2009-09-10</td>\n",
       "      <td>Half1</td>\n",
       "      <td>15:00</td>\n",
       "      <td>TEN 30</td>\n",
       "      <td>R.Bironas kicks 67 yards from TEN 30 to PIT 3....</td>\n",
       "      <td>kickoff</td>\n",
       "    </tr>\n",
       "    <tr>\n",
       "      <th>1</th>\n",
       "      <td>67f Mostly Cloudy</td>\n",
       "      <td>NaN</td>\n",
       "      <td>PIT</td>\n",
       "      <td>TEN</td>\n",
       "      <td>PIT</td>\n",
       "      <td>home</td>\n",
       "      <td>TEN</td>\n",
       "      <td>PIT</td>\n",
       "      <td>2009-09-10</td>\n",
       "      <td>Half1</td>\n",
       "      <td>14:53</td>\n",
       "      <td>PIT 42</td>\n",
       "      <td>(14:53) B.Roethlisberger pass short left to H....</td>\n",
       "      <td>pass</td>\n",
       "    </tr>\n",
       "    <tr>\n",
       "      <th>2</th>\n",
       "      <td>67f Mostly Cloudy</td>\n",
       "      <td>NaN</td>\n",
       "      <td>PIT</td>\n",
       "      <td>TEN</td>\n",
       "      <td>PIT</td>\n",
       "      <td>home</td>\n",
       "      <td>TEN</td>\n",
       "      <td>PIT</td>\n",
       "      <td>2009-09-10</td>\n",
       "      <td>Half1</td>\n",
       "      <td>14:16</td>\n",
       "      <td>PIT 47</td>\n",
       "      <td>(14:16) W.Parker right end to PIT 44 for -3 ya...</td>\n",
       "      <td>run</td>\n",
       "    </tr>\n",
       "    <tr>\n",
       "      <th>3</th>\n",
       "      <td>67f Mostly Cloudy</td>\n",
       "      <td>NaN</td>\n",
       "      <td>PIT</td>\n",
       "      <td>TEN</td>\n",
       "      <td>PIT</td>\n",
       "      <td>home</td>\n",
       "      <td>TEN</td>\n",
       "      <td>PIT</td>\n",
       "      <td>2009-09-10</td>\n",
       "      <td>Half1</td>\n",
       "      <td>13:35</td>\n",
       "      <td>PIT 44</td>\n",
       "      <td>(13:35) (Shotgun) B.Roethlisberger pass incomp...</td>\n",
       "      <td>pass</td>\n",
       "    </tr>\n",
       "    <tr>\n",
       "      <th>4</th>\n",
       "      <td>67f Mostly Cloudy</td>\n",
       "      <td>NaN</td>\n",
       "      <td>PIT</td>\n",
       "      <td>TEN</td>\n",
       "      <td>PIT</td>\n",
       "      <td>home</td>\n",
       "      <td>TEN</td>\n",
       "      <td>PIT</td>\n",
       "      <td>2009-09-10</td>\n",
       "      <td>Half1</td>\n",
       "      <td>13:27</td>\n",
       "      <td>PIT 44</td>\n",
       "      <td>(13:27) (Punt formation) D.Sepulveda punts 54 ...</td>\n",
       "      <td>punt</td>\n",
       "    </tr>\n",
       "  </tbody>\n",
       "</table>\n",
       "</div>"
      ],
      "text/plain": [
       "            forecast wind home_team away_team posteam posteam_type defteam  \\\n",
       "0  67f Mostly Cloudy  NaN       PIT       TEN     PIT         home     TEN   \n",
       "1  67f Mostly Cloudy  NaN       PIT       TEN     PIT         home     TEN   \n",
       "2  67f Mostly Cloudy  NaN       PIT       TEN     PIT         home     TEN   \n",
       "3  67f Mostly Cloudy  NaN       PIT       TEN     PIT         home     TEN   \n",
       "4  67f Mostly Cloudy  NaN       PIT       TEN     PIT         home     TEN   \n",
       "\n",
       "  side_of_field   game_date game_half   time   yrdln  \\\n",
       "0           TEN  2009-09-10     Half1  15:00  TEN 30   \n",
       "1           PIT  2009-09-10     Half1  14:53  PIT 42   \n",
       "2           PIT  2009-09-10     Half1  14:16  PIT 47   \n",
       "3           PIT  2009-09-10     Half1  13:35  PIT 44   \n",
       "4           PIT  2009-09-10     Half1  13:27  PIT 44   \n",
       "\n",
       "                                                desc play_type  \n",
       "0  R.Bironas kicks 67 yards from TEN 30 to PIT 3....   kickoff  \n",
       "1  (14:53) B.Roethlisberger pass short left to H....      pass  \n",
       "2  (14:16) W.Parker right end to PIT 44 for -3 ya...       run  \n",
       "3  (13:35) (Shotgun) B.Roethlisberger pass incomp...      pass  \n",
       "4  (13:27) (Punt formation) D.Sepulveda punts 54 ...      punt  "
      ]
     },
     "execution_count": 5,
     "metadata": {},
     "output_type": "execute_result"
    }
   ],
   "source": [
    "df.select_dtypes(include = 'object').head()"
   ]
  },
  {
   "cell_type": "markdown",
   "metadata": {},
   "source": [
    "First, let's look at forecast. I want to separate the temperature into temperature and description."
   ]
  },
  {
   "cell_type": "code",
   "execution_count": 6,
   "metadata": {},
   "outputs": [],
   "source": [
    "df['temperature'] = df['forecast'].str.split('f ',expand=True)[0]\n",
    "df['weather_desc'] = df['forecast'].str.split('f ',expand=True)[1]\n",
    "df = df.drop(columns='forecast')"
   ]
  },
  {
   "cell_type": "markdown",
   "metadata": {},
   "source": [
    "Now let's check the values we have for temperature."
   ]
  },
  {
   "cell_type": "code",
   "execution_count": 7,
   "metadata": {},
   "outputs": [
    {
     "data": {
      "text/plain": [
       "DOME     91161\n",
       "63       11087\n",
       "64        8963\n",
       "70        8827\n",
       "62        8556\n",
       "57        8512\n",
       "54        8495\n",
       "61        8400\n",
       "48        8230\n",
       "52        8165\n",
       "60        8099\n",
       "80        7975\n",
       "71        7966\n",
       "66        7937\n",
       "75        7880\n",
       "73        7826\n",
       "78        7741\n",
       "67        7612\n",
       "68        7379\n",
       "72        7313\n",
       "59        7210\n",
       "69        7022\n",
       "53        6958\n",
       "79        6758\n",
       "58        6585\n",
       "77        6447\n",
       "56        6003\n",
       "46        5701\n",
       "65        5684\n",
       "37        5662\n",
       "51        5475\n",
       "45        5041\n",
       "50        4875\n",
       "41        4785\n",
       "82        4743\n",
       "42        4739\n",
       "55        4701\n",
       "35        4628\n",
       "43        4538\n",
       "44        4437\n",
       "34        4409\n",
       "76        4391\n",
       "81        4343\n",
       "47        4045\n",
       "39        3939\n",
       "84        3920\n",
       "85        3825\n",
       "74        3714\n",
       "38        3690\n",
       "49        3614\n",
       "40        3609\n",
       "83        3361\n",
       "32        3341\n",
       "87        3270\n",
       "30        3024\n",
       "88        3022\n",
       "86        2691\n",
       "89        2359\n",
       "28        2270\n",
       "36        2106\n",
       "26        2105\n",
       "33        1774\n",
       "27        1722\n",
       "25        1531\n",
       "31        1384\n",
       "24        1216\n",
       "22        1048\n",
       "23         920\n",
       "90         843\n",
       "0          730\n",
       "29         695\n",
       "21         695\n",
       "91         547\n",
       "19         539\n",
       "16         518\n",
       "9          514\n",
       "15         506\n",
       "20         388\n",
       "18         379\n",
       "92         336\n",
       "33/51      209\n",
       "11         188\n",
       "12         181\n",
       "17         178\n",
       "39/53      174\n",
       "93         174\n",
       "14         165\n",
       "7          165\n",
       "10         164\n",
       "2          163\n",
       "Name: temperature, dtype: int64"
      ]
     },
     "execution_count": 7,
     "metadata": {},
     "output_type": "execute_result"
    }
   ],
   "source": [
    "df['temperature'].value_counts()"
   ]
  },
  {
   "cell_type": "markdown",
   "metadata": {},
   "source": [
    "Already I can see that Dome will be difficult to replace or impute. I can't be sure with the information I have whether or not the Dome was open or closed during the game. There are also two games that have it seems two temperatures. I am first going update those temperatures. Then, for now I am going to create a binary column for whether or not a game was in a dome and binary columns for ranges of temperatures (cold < 40 degrees, moderate (41,70), hot > 70 degrees). To create these columns, I am going to impute 65 for temperature in Dome stadiums."
   ]
  },
  {
   "cell_type": "code",
   "execution_count": 8,
   "metadata": {},
   "outputs": [],
   "source": [
    "df['temperature'].replace('33/51','51',inplace=True)\n",
    "df['temperature'].replace('39/53','53',inplace=True)"
   ]
  },
  {
   "cell_type": "code",
   "execution_count": 9,
   "metadata": {},
   "outputs": [],
   "source": [
    "df['dome'] = np.where(df['temperature'] == 'DOME',1,0)"
   ]
  },
  {
   "cell_type": "code",
   "execution_count": 10,
   "metadata": {},
   "outputs": [],
   "source": [
    "df['temperature'] = df['temperature'].replace('DOME',65).astype(float)"
   ]
  },
  {
   "cell_type": "code",
   "execution_count": 11,
   "metadata": {},
   "outputs": [],
   "source": [
    "mask = [df['temperature'].between(-100,45), df['temperature'].between(46,70), df['ydstogo'].between(71,150)]\n",
    "values = ['Cold','Moderate','Hot']\n",
    "df['temperature_range'] = np.select(mask, values, 0)"
   ]
  },
  {
   "cell_type": "code",
   "execution_count": 12,
   "metadata": {},
   "outputs": [],
   "source": [
    "df = df.join(pd.get_dummies(df['temperature_range'], prefix='temp_range',drop_first=True))\n",
    "df = df.drop(columns=['temperature_range','temperature'])"
   ]
  },
  {
   "cell_type": "markdown",
   "metadata": {},
   "source": [
    "Next, I need to use the weather description. I decided to create a dummy variable for whether or not there is precipitation during the game. If the forecast was a Dome, the weather description was null. I am going to make the assumption that there is no precipitation in a Dome."
   ]
  },
  {
   "cell_type": "code",
   "execution_count": 13,
   "metadata": {
    "scrolled": true
   },
   "outputs": [
    {
     "data": {
      "text/plain": [
       "Clear                                             70940\n",
       "Mostly Cloudy                                     66170\n",
       "Partly Cloudy                                     54546\n",
       "Fair                                              52063\n",
       "Overcast                                          44161\n",
       "A Few Clouds                                      19280\n",
       "Light Rain                                         7983\n",
       "NA                                                 2866\n",
       " Light Rain                                        2855\n",
       "Rain                                               2541\n",
       "Drizzle                                            2527\n",
       " Fog/Mist                                          1787\n",
       "Humid and Mostly Cloudy                            1626\n",
       "Fog/Mist                                           1393\n",
       "Overcast and Breezy                                1240\n",
       "Mostly Cloudy and Breezy                           1208\n",
       "Humid and Partly Cloudy                            1097\n",
       "Light Rain Fog/Mist                                1088\n",
       "Fair and Breezy                                    1083\n",
       "Light Snow                                         1049\n",
       " Light Rain Fog/Mist                               1009\n",
       "Mostly Sunny                                        908\n",
       "Partly Sunny                                        859\n",
       "Overcast with Haze                                  851\n",
       "Sunny                                               838\n",
       "Foggy                                               787\n",
       "Fog                                                 735\n",
       "Lt Rain                                             705\n",
       "Partly Cloudy and Breezy                            699\n",
       "Mostly Clear                                        677\n",
       "Breezy                                              573\n",
       "Fair with Haze                                      537\n",
       "Snow                                                500\n",
       " Light Snow                                         497\n",
       " Light Snow Fog/Mist                                487\n",
       "A Few Clouds with Haze                              376\n",
       "Humid                                               367\n",
       "Partly Cloudy with Haze                             351\n",
       " Light Drizzle                                      350\n",
       "  Showers in Vicinity                               350\n",
       "Possible Drizzle                                    345\n",
       "Overcast and Windy                                  345\n",
       "Rain Showers                                        345\n",
       "  Thunderstorm in Vicinity Light Rain Fog/Mist      216\n",
       "Dry and Partly Cloudy                               202\n",
       "Wintry Mix                                          196\n",
       " Heavy Rain Fog/Mist                                189\n",
       "Flurries                                            188\n",
       "Heavy Rain                                          187\n",
       " Thunderstorm Rain Fog/Mist                         186\n",
       "Showers                                             185\n",
       "Areas Drizzle                                       185\n",
       " Rain Fog/Mist                                      183\n",
       " Fog                                                182\n",
       "Mod Rain, Fog                                       181\n",
       "Decreasing Clouds                                   180\n",
       " Snow and Breezy                                    180\n",
       "Thunderstorm Rain Fog/Mist                          179\n",
       "Light Rain and Breezy                               179\n",
       "Light Drizzle                                       178\n",
       "Areas Fog                                           177\n",
       "Possible Light Rain                                 176\n",
       "Rain Fog/Mist                                       175\n",
       "Chance Showers                                      174\n",
       "Patchy Fog                                          174\n",
       " Heavy Snow Freezing Fog                            173\n",
       "Cloudy                                              173\n",
       "Breezy and Humid                                    173\n",
       "Lt Rain, Fog                                        173\n",
       "A Few Clouds and Breezy                             172\n",
       "Thunderstorm Light Rain                             171\n",
       "Light Snow Fog/Mist                                 171\n",
       " Rain Fog/Mist and Breezy                           170\n",
       "Thunder, Lt Rain                                    170\n",
       "Few Clouds                                          170\n",
       "A few Clouds                                        168\n",
       " Light Freezing Rain                                166\n",
       " Blowing Snow and Breezy                            162\n",
       "Dry                                                 160\n",
       "Blizzard                                            160\n",
       "Heavy Rain Fog/Mist                                 160\n",
       " Thunderstorm                                       158\n",
       "Shallow Fog                                         153\n",
       "Name: weather_desc, dtype: int64"
      ]
     },
     "execution_count": 13,
     "metadata": {},
     "output_type": "execute_result"
    }
   ],
   "source": [
    "df['weather_desc'].value_counts()"
   ]
  },
  {
   "cell_type": "code",
   "execution_count": 14,
   "metadata": {},
   "outputs": [],
   "source": [
    "df['precipitation'] = df['weather_desc'].fillna('NA').apply(lambda x: 1 if ('Rain' in x \n",
    "                                                                           or 'Snow' in x \n",
    "                                                                           or 'Wintry' in x\n",
    "                                                                           or 'Drizzle' in x\n",
    "                                                                           or 'Fog' in x\n",
    "                                                                           or 'Showers' in x\n",
    "                                                                           or 'Flurries' in x\n",
    "                                                                           or 'Blizzard' in x\n",
    "                                                                           or 'Thunder' in x) else 0)\n",
    "df = df.drop(columns='weather_desc')"
   ]
  },
  {
   "cell_type": "markdown",
   "metadata": {},
   "source": [
    "Next, wind speed needs to be extracted from the wind string. NFLWeather.com did not start collecting wind consistently until about 2015. I probably won't use this feature since so many values are missing (30%), but I will still extract the number for what it is worth."
   ]
  },
  {
   "cell_type": "code",
   "execution_count": 15,
   "metadata": {},
   "outputs": [
    {
     "data": {
      "text/plain": [
       "2014"
      ]
     },
     "execution_count": 15,
     "metadata": {},
     "output_type": "execute_result"
    }
   ],
   "source": [
    "df[df['wind'].isnull()]['year'].max()"
   ]
  },
  {
   "cell_type": "code",
   "execution_count": 16,
   "metadata": {},
   "outputs": [
    {
     "data": {
      "text/plain": [
       "0.3013156430177423"
      ]
     },
     "execution_count": 16,
     "metadata": {},
     "output_type": "execute_result"
    }
   ],
   "source": [
    "df['wind'].isnull().mean()"
   ]
  },
  {
   "cell_type": "code",
   "execution_count": 17,
   "metadata": {},
   "outputs": [],
   "source": [
    "df['wind_speed'] = df['wind'].str.split('m ', expand=True)[0].astype(float)\n",
    "df = df.drop(columns='wind')"
   ]
  },
  {
   "cell_type": "markdown",
   "metadata": {},
   "source": [
    "Pos team & def team will be dummied, but the dummying will created more than 60 additional columns. For storage purposes, I will dummy these in the feature engineering notebook. The next variable to address is whether or not the possession team is home."
   ]
  },
  {
   "cell_type": "code",
   "execution_count": 18,
   "metadata": {},
   "outputs": [],
   "source": [
    "df['posteam_home'] = df['posteam_type'].apply(lambda x: 1 if x == 'home' else 0)\n",
    "df = df.drop(columns=['home_team','away_team','posteam_type'])"
   ]
  },
  {
   "cell_type": "markdown",
   "metadata": {},
   "source": [
    "I am also going to make the game_date a datetime object rather thana a string."
   ]
  },
  {
   "cell_type": "code",
   "execution_count": 19,
   "metadata": {},
   "outputs": [],
   "source": [
    "df['game_date'] = pd.to_datetime(df['game_date'])"
   ]
  },
  {
   "cell_type": "markdown",
   "metadata": {},
   "source": [
    "Next, I will binarize whether or not the team is on their own side."
   ]
  },
  {
   "cell_type": "code",
   "execution_count": 20,
   "metadata": {},
   "outputs": [],
   "source": [
    "df['own_side'] = np.where(df['posteam'] == df['side_of_field'],1,0)\n",
    "df = df.drop(columns=['side_of_field'])"
   ]
  },
  {
   "cell_type": "markdown",
   "metadata": {},
   "source": [
    "Next, I am going to eliminate plays in overtime and binarize whether or not it is the second half."
   ]
  },
  {
   "cell_type": "code",
   "execution_count": 21,
   "metadata": {},
   "outputs": [
    {
     "data": {
      "text/plain": [
       "Half2       223879\n",
       "Half1       222079\n",
       "Overtime      3252\n",
       "Name: game_half, dtype: int64"
      ]
     },
     "execution_count": 21,
     "metadata": {},
     "output_type": "execute_result"
    }
   ],
   "source": [
    "df['game_half'].value_counts()"
   ]
  },
  {
   "cell_type": "code",
   "execution_count": 22,
   "metadata": {},
   "outputs": [],
   "source": [
    "df = df[df['game_half'] != 'Overtime']"
   ]
  },
  {
   "cell_type": "code",
   "execution_count": 23,
   "metadata": {},
   "outputs": [],
   "source": [
    "df['second_half'] = df['game_half'].apply(lambda x: 1 if x =='Half2' else 0)\n",
    "df = df.drop(columns='game_half')"
   ]
  },
  {
   "cell_type": "markdown",
   "metadata": {},
   "source": [
    "Next I am going to drop time since we already have quarter_seconds_left, half_seconds_left, and game_seconds_left."
   ]
  },
  {
   "cell_type": "code",
   "execution_count": 24,
   "metadata": {},
   "outputs": [],
   "source": [
    "df = df.drop(columns = ['time'])"
   ]
  },
  {
   "cell_type": "markdown",
   "metadata": {},
   "source": [
    "Finally, I am going to drop the column yrdln because we already have yardline_100 with essentially the same information."
   ]
  },
  {
   "cell_type": "code",
   "execution_count": 25,
   "metadata": {},
   "outputs": [],
   "source": [
    "df = df.drop(columns='yrdln')"
   ]
  },
  {
   "cell_type": "code",
   "execution_count": 26,
   "metadata": {
    "scrolled": true
   },
   "outputs": [
    {
     "data": {
      "text/html": [
       "<div>\n",
       "<style scoped>\n",
       "    .dataframe tbody tr th:only-of-type {\n",
       "        vertical-align: middle;\n",
       "    }\n",
       "\n",
       "    .dataframe tbody tr th {\n",
       "        vertical-align: top;\n",
       "    }\n",
       "\n",
       "    .dataframe thead th {\n",
       "        text-align: right;\n",
       "    }\n",
       "</style>\n",
       "<table border=\"1\" class=\"dataframe\">\n",
       "  <thead>\n",
       "    <tr style=\"text-align: right;\">\n",
       "      <th></th>\n",
       "      <th>posteam</th>\n",
       "      <th>defteam</th>\n",
       "      <th>desc</th>\n",
       "      <th>play_type</th>\n",
       "    </tr>\n",
       "  </thead>\n",
       "  <tbody>\n",
       "    <tr>\n",
       "      <th>0</th>\n",
       "      <td>PIT</td>\n",
       "      <td>TEN</td>\n",
       "      <td>R.Bironas kicks 67 yards from TEN 30 to PIT 3....</td>\n",
       "      <td>kickoff</td>\n",
       "    </tr>\n",
       "    <tr>\n",
       "      <th>1</th>\n",
       "      <td>PIT</td>\n",
       "      <td>TEN</td>\n",
       "      <td>(14:53) B.Roethlisberger pass short left to H....</td>\n",
       "      <td>pass</td>\n",
       "    </tr>\n",
       "    <tr>\n",
       "      <th>2</th>\n",
       "      <td>PIT</td>\n",
       "      <td>TEN</td>\n",
       "      <td>(14:16) W.Parker right end to PIT 44 for -3 ya...</td>\n",
       "      <td>run</td>\n",
       "    </tr>\n",
       "    <tr>\n",
       "      <th>3</th>\n",
       "      <td>PIT</td>\n",
       "      <td>TEN</td>\n",
       "      <td>(13:35) (Shotgun) B.Roethlisberger pass incomp...</td>\n",
       "      <td>pass</td>\n",
       "    </tr>\n",
       "    <tr>\n",
       "      <th>4</th>\n",
       "      <td>PIT</td>\n",
       "      <td>TEN</td>\n",
       "      <td>(13:27) (Punt formation) D.Sepulveda punts 54 ...</td>\n",
       "      <td>punt</td>\n",
       "    </tr>\n",
       "  </tbody>\n",
       "</table>\n",
       "</div>"
      ],
      "text/plain": [
       "  posteam defteam                                               desc play_type\n",
       "0     PIT     TEN  R.Bironas kicks 67 yards from TEN 30 to PIT 3....   kickoff\n",
       "1     PIT     TEN  (14:53) B.Roethlisberger pass short left to H....      pass\n",
       "2     PIT     TEN  (14:16) W.Parker right end to PIT 44 for -3 ya...       run\n",
       "3     PIT     TEN  (13:35) (Shotgun) B.Roethlisberger pass incomp...      pass\n",
       "4     PIT     TEN  (13:27) (Punt formation) D.Sepulveda punts 54 ...      punt"
      ]
     },
     "execution_count": 26,
     "metadata": {},
     "output_type": "execute_result"
    }
   ],
   "source": [
    "df.select_dtypes(include = 'object').head()"
   ]
  },
  {
   "cell_type": "markdown",
   "metadata": {},
   "source": [
    "As I mentioned above, posteam and defteam will be dummied in the feature engineering notebook. Play description will remain, but I will not use it in the model. Playtype will be what we are predicting, so no need to change at the moment."
   ]
  },
  {
   "cell_type": "markdown",
   "metadata": {},
   "source": [
    "### Dealing with Nulls"
   ]
  },
  {
   "cell_type": "markdown",
   "metadata": {},
   "source": [
    "In this section, I aim to address any nulls we have in the data. First I need to isolate the plays to those that are effectively a run (run or qb kneel) or effectively a pass (pass or qb spike)."
   ]
  },
  {
   "cell_type": "code",
   "execution_count": 27,
   "metadata": {},
   "outputs": [
    {
     "data": {
      "text/html": [
       "<div>\n",
       "<style scoped>\n",
       "    .dataframe tbody tr th:only-of-type {\n",
       "        vertical-align: middle;\n",
       "    }\n",
       "\n",
       "    .dataframe tbody tr th {\n",
       "        vertical-align: top;\n",
       "    }\n",
       "\n",
       "    .dataframe thead th {\n",
       "        text-align: right;\n",
       "    }\n",
       "</style>\n",
       "<table border=\"1\" class=\"dataframe\">\n",
       "  <thead>\n",
       "    <tr style=\"text-align: right;\">\n",
       "      <th></th>\n",
       "      <th>week</th>\n",
       "      <th>year</th>\n",
       "      <th>game_id</th>\n",
       "      <th>posteam</th>\n",
       "      <th>defteam</th>\n",
       "      <th>yardline_100</th>\n",
       "      <th>game_date</th>\n",
       "      <th>quarter_seconds_remaining</th>\n",
       "      <th>half_seconds_remaining</th>\n",
       "      <th>game_seconds_remaining</th>\n",
       "      <th>quarter_end</th>\n",
       "      <th>drive</th>\n",
       "      <th>qtr</th>\n",
       "      <th>down</th>\n",
       "      <th>goal_to_go</th>\n",
       "      <th>ydstogo</th>\n",
       "      <th>desc</th>\n",
       "      <th>play_type</th>\n",
       "      <th>home_timeouts_remaining</th>\n",
       "      <th>away_timeouts_remaining</th>\n",
       "      <th>posteam_timeouts_remaining</th>\n",
       "      <th>defteam_timeouts_remaining</th>\n",
       "      <th>total_home_score</th>\n",
       "      <th>total_away_score</th>\n",
       "      <th>posteam_score</th>\n",
       "      <th>defteam_score</th>\n",
       "      <th>score_differential</th>\n",
       "      <th>wp</th>\n",
       "      <th>dome</th>\n",
       "      <th>temp_range_Cold</th>\n",
       "      <th>temp_range_Moderate</th>\n",
       "      <th>precipitation</th>\n",
       "      <th>wind_speed</th>\n",
       "      <th>posteam_home</th>\n",
       "      <th>own_side</th>\n",
       "      <th>second_half</th>\n",
       "    </tr>\n",
       "  </thead>\n",
       "  <tbody>\n",
       "    <tr>\n",
       "      <th>0</th>\n",
       "      <td>1</td>\n",
       "      <td>2009</td>\n",
       "      <td>2.009091e+09</td>\n",
       "      <td>PIT</td>\n",
       "      <td>TEN</td>\n",
       "      <td>30.0</td>\n",
       "      <td>2009-09-10</td>\n",
       "      <td>900.0</td>\n",
       "      <td>1800.0</td>\n",
       "      <td>3600.0</td>\n",
       "      <td>0.0</td>\n",
       "      <td>1.0</td>\n",
       "      <td>1.0</td>\n",
       "      <td>NaN</td>\n",
       "      <td>0.0</td>\n",
       "      <td>0.0</td>\n",
       "      <td>R.Bironas kicks 67 yards from TEN 30 to PIT 3....</td>\n",
       "      <td>kickoff</td>\n",
       "      <td>3.0</td>\n",
       "      <td>3.0</td>\n",
       "      <td>3.0</td>\n",
       "      <td>3.0</td>\n",
       "      <td>0.0</td>\n",
       "      <td>0.0</td>\n",
       "      <td>NaN</td>\n",
       "      <td>NaN</td>\n",
       "      <td>NaN</td>\n",
       "      <td>NaN</td>\n",
       "      <td>0</td>\n",
       "      <td>0</td>\n",
       "      <td>1</td>\n",
       "      <td>0</td>\n",
       "      <td>NaN</td>\n",
       "      <td>1</td>\n",
       "      <td>0</td>\n",
       "      <td>0</td>\n",
       "    </tr>\n",
       "    <tr>\n",
       "      <th>1</th>\n",
       "      <td>1</td>\n",
       "      <td>2009</td>\n",
       "      <td>2.009091e+09</td>\n",
       "      <td>PIT</td>\n",
       "      <td>TEN</td>\n",
       "      <td>58.0</td>\n",
       "      <td>2009-09-10</td>\n",
       "      <td>893.0</td>\n",
       "      <td>1793.0</td>\n",
       "      <td>3593.0</td>\n",
       "      <td>0.0</td>\n",
       "      <td>1.0</td>\n",
       "      <td>1.0</td>\n",
       "      <td>1.0</td>\n",
       "      <td>0.0</td>\n",
       "      <td>10.0</td>\n",
       "      <td>(14:53) B.Roethlisberger pass short left to H....</td>\n",
       "      <td>pass</td>\n",
       "      <td>3.0</td>\n",
       "      <td>3.0</td>\n",
       "      <td>3.0</td>\n",
       "      <td>3.0</td>\n",
       "      <td>0.0</td>\n",
       "      <td>0.0</td>\n",
       "      <td>0.0</td>\n",
       "      <td>0.0</td>\n",
       "      <td>0.0</td>\n",
       "      <td>0.546433</td>\n",
       "      <td>0</td>\n",
       "      <td>0</td>\n",
       "      <td>1</td>\n",
       "      <td>0</td>\n",
       "      <td>NaN</td>\n",
       "      <td>1</td>\n",
       "      <td>1</td>\n",
       "      <td>0</td>\n",
       "    </tr>\n",
       "    <tr>\n",
       "      <th>2</th>\n",
       "      <td>1</td>\n",
       "      <td>2009</td>\n",
       "      <td>2.009091e+09</td>\n",
       "      <td>PIT</td>\n",
       "      <td>TEN</td>\n",
       "      <td>53.0</td>\n",
       "      <td>2009-09-10</td>\n",
       "      <td>856.0</td>\n",
       "      <td>1756.0</td>\n",
       "      <td>3556.0</td>\n",
       "      <td>0.0</td>\n",
       "      <td>1.0</td>\n",
       "      <td>1.0</td>\n",
       "      <td>2.0</td>\n",
       "      <td>0.0</td>\n",
       "      <td>5.0</td>\n",
       "      <td>(14:16) W.Parker right end to PIT 44 for -3 ya...</td>\n",
       "      <td>run</td>\n",
       "      <td>3.0</td>\n",
       "      <td>3.0</td>\n",
       "      <td>3.0</td>\n",
       "      <td>3.0</td>\n",
       "      <td>0.0</td>\n",
       "      <td>0.0</td>\n",
       "      <td>0.0</td>\n",
       "      <td>0.0</td>\n",
       "      <td>0.0</td>\n",
       "      <td>0.551088</td>\n",
       "      <td>0</td>\n",
       "      <td>0</td>\n",
       "      <td>1</td>\n",
       "      <td>0</td>\n",
       "      <td>NaN</td>\n",
       "      <td>1</td>\n",
       "      <td>1</td>\n",
       "      <td>0</td>\n",
       "    </tr>\n",
       "    <tr>\n",
       "      <th>3</th>\n",
       "      <td>1</td>\n",
       "      <td>2009</td>\n",
       "      <td>2.009091e+09</td>\n",
       "      <td>PIT</td>\n",
       "      <td>TEN</td>\n",
       "      <td>56.0</td>\n",
       "      <td>2009-09-10</td>\n",
       "      <td>815.0</td>\n",
       "      <td>1715.0</td>\n",
       "      <td>3515.0</td>\n",
       "      <td>0.0</td>\n",
       "      <td>1.0</td>\n",
       "      <td>1.0</td>\n",
       "      <td>3.0</td>\n",
       "      <td>0.0</td>\n",
       "      <td>8.0</td>\n",
       "      <td>(13:35) (Shotgun) B.Roethlisberger pass incomp...</td>\n",
       "      <td>pass</td>\n",
       "      <td>3.0</td>\n",
       "      <td>3.0</td>\n",
       "      <td>3.0</td>\n",
       "      <td>3.0</td>\n",
       "      <td>0.0</td>\n",
       "      <td>0.0</td>\n",
       "      <td>0.0</td>\n",
       "      <td>0.0</td>\n",
       "      <td>0.0</td>\n",
       "      <td>0.510793</td>\n",
       "      <td>0</td>\n",
       "      <td>0</td>\n",
       "      <td>1</td>\n",
       "      <td>0</td>\n",
       "      <td>NaN</td>\n",
       "      <td>1</td>\n",
       "      <td>1</td>\n",
       "      <td>0</td>\n",
       "    </tr>\n",
       "    <tr>\n",
       "      <th>4</th>\n",
       "      <td>1</td>\n",
       "      <td>2009</td>\n",
       "      <td>2.009091e+09</td>\n",
       "      <td>PIT</td>\n",
       "      <td>TEN</td>\n",
       "      <td>56.0</td>\n",
       "      <td>2009-09-10</td>\n",
       "      <td>807.0</td>\n",
       "      <td>1707.0</td>\n",
       "      <td>3507.0</td>\n",
       "      <td>0.0</td>\n",
       "      <td>1.0</td>\n",
       "      <td>1.0</td>\n",
       "      <td>4.0</td>\n",
       "      <td>0.0</td>\n",
       "      <td>8.0</td>\n",
       "      <td>(13:27) (Punt formation) D.Sepulveda punts 54 ...</td>\n",
       "      <td>punt</td>\n",
       "      <td>3.0</td>\n",
       "      <td>3.0</td>\n",
       "      <td>3.0</td>\n",
       "      <td>3.0</td>\n",
       "      <td>0.0</td>\n",
       "      <td>0.0</td>\n",
       "      <td>0.0</td>\n",
       "      <td>0.0</td>\n",
       "      <td>0.0</td>\n",
       "      <td>0.461217</td>\n",
       "      <td>0</td>\n",
       "      <td>0</td>\n",
       "      <td>1</td>\n",
       "      <td>0</td>\n",
       "      <td>NaN</td>\n",
       "      <td>1</td>\n",
       "      <td>1</td>\n",
       "      <td>0</td>\n",
       "    </tr>\n",
       "  </tbody>\n",
       "</table>\n",
       "</div>"
      ],
      "text/plain": [
       "   week  year       game_id posteam defteam  yardline_100  game_date  \\\n",
       "0     1  2009  2.009091e+09     PIT     TEN          30.0 2009-09-10   \n",
       "1     1  2009  2.009091e+09     PIT     TEN          58.0 2009-09-10   \n",
       "2     1  2009  2.009091e+09     PIT     TEN          53.0 2009-09-10   \n",
       "3     1  2009  2.009091e+09     PIT     TEN          56.0 2009-09-10   \n",
       "4     1  2009  2.009091e+09     PIT     TEN          56.0 2009-09-10   \n",
       "\n",
       "   quarter_seconds_remaining  half_seconds_remaining  game_seconds_remaining  \\\n",
       "0                      900.0                  1800.0                  3600.0   \n",
       "1                      893.0                  1793.0                  3593.0   \n",
       "2                      856.0                  1756.0                  3556.0   \n",
       "3                      815.0                  1715.0                  3515.0   \n",
       "4                      807.0                  1707.0                  3507.0   \n",
       "\n",
       "   quarter_end  drive  qtr  down  goal_to_go  ydstogo  \\\n",
       "0          0.0    1.0  1.0   NaN         0.0      0.0   \n",
       "1          0.0    1.0  1.0   1.0         0.0     10.0   \n",
       "2          0.0    1.0  1.0   2.0         0.0      5.0   \n",
       "3          0.0    1.0  1.0   3.0         0.0      8.0   \n",
       "4          0.0    1.0  1.0   4.0         0.0      8.0   \n",
       "\n",
       "                                                desc play_type  \\\n",
       "0  R.Bironas kicks 67 yards from TEN 30 to PIT 3....   kickoff   \n",
       "1  (14:53) B.Roethlisberger pass short left to H....      pass   \n",
       "2  (14:16) W.Parker right end to PIT 44 for -3 ya...       run   \n",
       "3  (13:35) (Shotgun) B.Roethlisberger pass incomp...      pass   \n",
       "4  (13:27) (Punt formation) D.Sepulveda punts 54 ...      punt   \n",
       "\n",
       "   home_timeouts_remaining  away_timeouts_remaining  \\\n",
       "0                      3.0                      3.0   \n",
       "1                      3.0                      3.0   \n",
       "2                      3.0                      3.0   \n",
       "3                      3.0                      3.0   \n",
       "4                      3.0                      3.0   \n",
       "\n",
       "   posteam_timeouts_remaining  defteam_timeouts_remaining  total_home_score  \\\n",
       "0                         3.0                         3.0               0.0   \n",
       "1                         3.0                         3.0               0.0   \n",
       "2                         3.0                         3.0               0.0   \n",
       "3                         3.0                         3.0               0.0   \n",
       "4                         3.0                         3.0               0.0   \n",
       "\n",
       "   total_away_score  posteam_score  defteam_score  score_differential  \\\n",
       "0               0.0            NaN            NaN                 NaN   \n",
       "1               0.0            0.0            0.0                 0.0   \n",
       "2               0.0            0.0            0.0                 0.0   \n",
       "3               0.0            0.0            0.0                 0.0   \n",
       "4               0.0            0.0            0.0                 0.0   \n",
       "\n",
       "         wp  dome  temp_range_Cold  temp_range_Moderate  precipitation  \\\n",
       "0       NaN     0                0                    1              0   \n",
       "1  0.546433     0                0                    1              0   \n",
       "2  0.551088     0                0                    1              0   \n",
       "3  0.510793     0                0                    1              0   \n",
       "4  0.461217     0                0                    1              0   \n",
       "\n",
       "   wind_speed  posteam_home  own_side  second_half  \n",
       "0         NaN             1         0            0  \n",
       "1         NaN             1         1            0  \n",
       "2         NaN             1         1            0  \n",
       "3         NaN             1         1            0  \n",
       "4         NaN             1         1            0  "
      ]
     },
     "execution_count": 27,
     "metadata": {},
     "output_type": "execute_result"
    }
   ],
   "source": [
    "df.head()"
   ]
  },
  {
   "cell_type": "code",
   "execution_count": 28,
   "metadata": {},
   "outputs": [
    {
     "data": {
      "text/plain": [
       "pass           185349\n",
       "run            131598\n",
       "no_play         42026\n",
       "kickoff         25362\n",
       "punt            23749\n",
       "extra_point     10932\n",
       "field_goal       9615\n",
       "qb_kneel         3818\n",
       "qb_spike          681\n",
       "Name: play_type, dtype: int64"
      ]
     },
     "execution_count": 28,
     "metadata": {},
     "output_type": "execute_result"
    }
   ],
   "source": [
    "df['play_type'].value_counts()"
   ]
  },
  {
   "cell_type": "code",
   "execution_count": 29,
   "metadata": {},
   "outputs": [],
   "source": [
    "df = df[(df['play_type'] == 'pass') | (df['play_type'] == 'run') | (df['play_type'] == 'qb_kneel')\n",
    "       | (df['play_type'] == 'qb_spike')]"
   ]
  },
  {
   "cell_type": "code",
   "execution_count": 30,
   "metadata": {},
   "outputs": [
    {
     "data": {
      "text/plain": [
       "pass        185349\n",
       "run         131598\n",
       "qb_kneel      3818\n",
       "qb_spike       681\n",
       "Name: play_type, dtype: int64"
      ]
     },
     "execution_count": 30,
     "metadata": {},
     "output_type": "execute_result"
    }
   ],
   "source": [
    "df['play_type'].value_counts()"
   ]
  },
  {
   "cell_type": "code",
   "execution_count": 31,
   "metadata": {},
   "outputs": [],
   "source": [
    "df['effective_run'] = df['play_type'].map({'pass': 0, 'qb_spike':0, 'run':1, 'qb_kneel':1})"
   ]
  },
  {
   "cell_type": "code",
   "execution_count": 32,
   "metadata": {},
   "outputs": [],
   "source": [
    "df['effective_pass'] = df['play_type'].map({'pass': 1, 'qb_spike':1, 'run':0, 'qb_kneel':0})"
   ]
  },
  {
   "cell_type": "markdown",
   "metadata": {},
   "source": [
    "The next step is addressing the nulls."
   ]
  },
  {
   "cell_type": "code",
   "execution_count": 33,
   "metadata": {},
   "outputs": [
    {
     "data": {
      "text/plain": [
       "week                              0\n",
       "year                              0\n",
       "game_id                           0\n",
       "posteam                           0\n",
       "defteam                           0\n",
       "yardline_100                      0\n",
       "game_date                         0\n",
       "quarter_seconds_remaining         0\n",
       "half_seconds_remaining           17\n",
       "game_seconds_remaining           14\n",
       "quarter_end                       0\n",
       "drive                             0\n",
       "qtr                               0\n",
       "down                            754\n",
       "goal_to_go                        0\n",
       "ydstogo                           0\n",
       "desc                              0\n",
       "play_type                         0\n",
       "home_timeouts_remaining           0\n",
       "away_timeouts_remaining           0\n",
       "posteam_timeouts_remaining        0\n",
       "defteam_timeouts_remaining        0\n",
       "total_home_score                  0\n",
       "total_away_score                  0\n",
       "posteam_score                    10\n",
       "defteam_score                    10\n",
       "score_differential               10\n",
       "wp                               12\n",
       "dome                              0\n",
       "temp_range_Cold                   0\n",
       "temp_range_Moderate               0\n",
       "precipitation                     0\n",
       "wind_speed                    97117\n",
       "posteam_home                      0\n",
       "own_side                          0\n",
       "second_half                       0\n",
       "effective_run                     0\n",
       "effective_pass                    0\n",
       "dtype: int64"
      ]
     },
     "execution_count": 33,
     "metadata": {},
     "output_type": "execute_result"
    }
   ],
   "source": [
    "df.isnull().sum()"
   ]
  },
  {
   "cell_type": "markdown",
   "metadata": {},
   "source": [
    "First, we need to impute half_seconds_remaining & game_seconds_remaining. We have enough information given quarter_seconds_remaining and qtr. In order to impute these, I need to reindex the dataframe since we just dropped a bunch of play types."
   ]
  },
  {
   "cell_type": "code",
   "execution_count": 34,
   "metadata": {},
   "outputs": [],
   "source": [
    "df.reset_index(drop=True,inplace=True)"
   ]
  },
  {
   "cell_type": "markdown",
   "metadata": {},
   "source": [
    "Next, I will impute half_seconds_remaining."
   ]
  },
  {
   "cell_type": "code",
   "execution_count": 35,
   "metadata": {},
   "outputs": [],
   "source": [
    "for i in df[df['half_seconds_remaining'].isnull()].index:\n",
    "    seconds = df.iloc[i]['quarter_seconds_remaining'] + 900\n",
    "    df.loc[[i],['half_seconds_remaining']] = seconds"
   ]
  },
  {
   "cell_type": "markdown",
   "metadata": {},
   "source": [
    "Next, I will impute game_seconds_remaining."
   ]
  },
  {
   "cell_type": "code",
   "execution_count": 36,
   "metadata": {},
   "outputs": [],
   "source": [
    "for i in df[df['game_seconds_remaining'].isnull()].index:\n",
    "    if (df.iloc[i]['qtr'] == 3):\n",
    "        seconds = df.iloc[i]['half_seconds_remaining']\n",
    "        df.loc[[i],['game_seconds_remaining']] = seconds\n",
    "    elif (df.iloc[i]['qtr'] == 1) | (df.iloc[i]['qtr'] == 2):\n",
    "        seconds = df.iloc[i]['half_seconds_remaining'] + 1800\n",
    "        df.loc[[i],['game_seconds_remaining']] = seconds\n",
    "    else:\n",
    "        pass"
   ]
  },
  {
   "cell_type": "markdown",
   "metadata": {},
   "source": [
    "Next, I will take a look at the missing downs."
   ]
  },
  {
   "cell_type": "code",
   "execution_count": 37,
   "metadata": {},
   "outputs": [
    {
     "data": {
      "text/html": [
       "<div>\n",
       "<style scoped>\n",
       "    .dataframe tbody tr th:only-of-type {\n",
       "        vertical-align: middle;\n",
       "    }\n",
       "\n",
       "    .dataframe tbody tr th {\n",
       "        vertical-align: top;\n",
       "    }\n",
       "\n",
       "    .dataframe thead th {\n",
       "        text-align: right;\n",
       "    }\n",
       "</style>\n",
       "<table border=\"1\" class=\"dataframe\">\n",
       "  <thead>\n",
       "    <tr style=\"text-align: right;\">\n",
       "      <th></th>\n",
       "      <th>week</th>\n",
       "      <th>year</th>\n",
       "      <th>game_id</th>\n",
       "      <th>posteam</th>\n",
       "      <th>defteam</th>\n",
       "      <th>yardline_100</th>\n",
       "      <th>game_date</th>\n",
       "      <th>quarter_seconds_remaining</th>\n",
       "      <th>half_seconds_remaining</th>\n",
       "      <th>game_seconds_remaining</th>\n",
       "      <th>quarter_end</th>\n",
       "      <th>drive</th>\n",
       "      <th>qtr</th>\n",
       "      <th>down</th>\n",
       "      <th>goal_to_go</th>\n",
       "      <th>ydstogo</th>\n",
       "      <th>desc</th>\n",
       "      <th>play_type</th>\n",
       "      <th>home_timeouts_remaining</th>\n",
       "      <th>away_timeouts_remaining</th>\n",
       "      <th>posteam_timeouts_remaining</th>\n",
       "      <th>defteam_timeouts_remaining</th>\n",
       "      <th>total_home_score</th>\n",
       "      <th>total_away_score</th>\n",
       "      <th>posteam_score</th>\n",
       "      <th>defteam_score</th>\n",
       "      <th>score_differential</th>\n",
       "      <th>wp</th>\n",
       "      <th>dome</th>\n",
       "      <th>temp_range_Cold</th>\n",
       "      <th>temp_range_Moderate</th>\n",
       "      <th>precipitation</th>\n",
       "      <th>wind_speed</th>\n",
       "      <th>posteam_home</th>\n",
       "      <th>own_side</th>\n",
       "      <th>second_half</th>\n",
       "      <th>effective_run</th>\n",
       "      <th>effective_pass</th>\n",
       "    </tr>\n",
       "  </thead>\n",
       "  <tbody>\n",
       "    <tr>\n",
       "      <th>985</th>\n",
       "      <td>1</td>\n",
       "      <td>2009</td>\n",
       "      <td>2.009091e+09</td>\n",
       "      <td>DEN</td>\n",
       "      <td>CIN</td>\n",
       "      <td>2.0</td>\n",
       "      <td>2009-09-13</td>\n",
       "      <td>11.0</td>\n",
       "      <td>11.0</td>\n",
       "      <td>11.0</td>\n",
       "      <td>0.0</td>\n",
       "      <td>21.0</td>\n",
       "      <td>4.0</td>\n",
       "      <td>NaN</td>\n",
       "      <td>0.0</td>\n",
       "      <td>0.0</td>\n",
       "      <td>(Pass formation) TWO-POINT CONVERSION ATTEMPT....</td>\n",
       "      <td>pass</td>\n",
       "      <td>2.0</td>\n",
       "      <td>0.0</td>\n",
       "      <td>0.0</td>\n",
       "      <td>2.0</td>\n",
       "      <td>7.0</td>\n",
       "      <td>12.0</td>\n",
       "      <td>12.0</td>\n",
       "      <td>7.0</td>\n",
       "      <td>5.0</td>\n",
       "      <td>0.958721</td>\n",
       "      <td>0</td>\n",
       "      <td>0</td>\n",
       "      <td>0</td>\n",
       "      <td>0</td>\n",
       "      <td>NaN</td>\n",
       "      <td>0</td>\n",
       "      <td>0</td>\n",
       "      <td>1</td>\n",
       "      <td>0</td>\n",
       "      <td>1</td>\n",
       "    </tr>\n",
       "    <tr>\n",
       "      <th>1592</th>\n",
       "      <td>1</td>\n",
       "      <td>2009</td>\n",
       "      <td>2.009091e+09</td>\n",
       "      <td>GB</td>\n",
       "      <td>CHI</td>\n",
       "      <td>2.0</td>\n",
       "      <td>2009-09-13</td>\n",
       "      <td>71.0</td>\n",
       "      <td>71.0</td>\n",
       "      <td>71.0</td>\n",
       "      <td>0.0</td>\n",
       "      <td>24.0</td>\n",
       "      <td>4.0</td>\n",
       "      <td>NaN</td>\n",
       "      <td>0.0</td>\n",
       "      <td>0.0</td>\n",
       "      <td>TWO-POINT CONVERSION ATTEMPT. A.Rodgers pass t...</td>\n",
       "      <td>pass</td>\n",
       "      <td>2.0</td>\n",
       "      <td>0.0</td>\n",
       "      <td>2.0</td>\n",
       "      <td>0.0</td>\n",
       "      <td>21.0</td>\n",
       "      <td>15.0</td>\n",
       "      <td>19.0</td>\n",
       "      <td>15.0</td>\n",
       "      <td>4.0</td>\n",
       "      <td>0.932944</td>\n",
       "      <td>0</td>\n",
       "      <td>0</td>\n",
       "      <td>0</td>\n",
       "      <td>0</td>\n",
       "      <td>NaN</td>\n",
       "      <td>1</td>\n",
       "      <td>0</td>\n",
       "      <td>1</td>\n",
       "      <td>0</td>\n",
       "      <td>1</td>\n",
       "    </tr>\n",
       "    <tr>\n",
       "      <th>1713</th>\n",
       "      <td>1</td>\n",
       "      <td>2009</td>\n",
       "      <td>2.009091e+09</td>\n",
       "      <td>NE</td>\n",
       "      <td>BUF</td>\n",
       "      <td>2.0</td>\n",
       "      <td>2009-09-14</td>\n",
       "      <td>126.0</td>\n",
       "      <td>126.0</td>\n",
       "      <td>126.0</td>\n",
       "      <td>0.0</td>\n",
       "      <td>16.0</td>\n",
       "      <td>4.0</td>\n",
       "      <td>NaN</td>\n",
       "      <td>0.0</td>\n",
       "      <td>0.0</td>\n",
       "      <td>TWO-POINT CONVERSION ATTEMPT. T.Brady pass to ...</td>\n",
       "      <td>pass</td>\n",
       "      <td>3.0</td>\n",
       "      <td>2.0</td>\n",
       "      <td>3.0</td>\n",
       "      <td>2.0</td>\n",
       "      <td>19.0</td>\n",
       "      <td>23.0</td>\n",
       "      <td>19.0</td>\n",
       "      <td>23.0</td>\n",
       "      <td>-4.0</td>\n",
       "      <td>0.257564</td>\n",
       "      <td>0</td>\n",
       "      <td>0</td>\n",
       "      <td>0</td>\n",
       "      <td>0</td>\n",
       "      <td>NaN</td>\n",
       "      <td>1</td>\n",
       "      <td>0</td>\n",
       "      <td>1</td>\n",
       "      <td>0</td>\n",
       "      <td>1</td>\n",
       "    </tr>\n",
       "    <tr>\n",
       "      <th>1717</th>\n",
       "      <td>1</td>\n",
       "      <td>2009</td>\n",
       "      <td>2.009091e+09</td>\n",
       "      <td>NE</td>\n",
       "      <td>BUF</td>\n",
       "      <td>2.0</td>\n",
       "      <td>2009-09-14</td>\n",
       "      <td>50.0</td>\n",
       "      <td>50.0</td>\n",
       "      <td>50.0</td>\n",
       "      <td>0.0</td>\n",
       "      <td>18.0</td>\n",
       "      <td>4.0</td>\n",
       "      <td>NaN</td>\n",
       "      <td>0.0</td>\n",
       "      <td>0.0</td>\n",
       "      <td>TWO-POINT CONVERSION ATTEMPT. T.Brady pass to ...</td>\n",
       "      <td>pass</td>\n",
       "      <td>3.0</td>\n",
       "      <td>2.0</td>\n",
       "      <td>3.0</td>\n",
       "      <td>2.0</td>\n",
       "      <td>25.0</td>\n",
       "      <td>23.0</td>\n",
       "      <td>25.0</td>\n",
       "      <td>23.0</td>\n",
       "      <td>2.0</td>\n",
       "      <td>0.884033</td>\n",
       "      <td>0</td>\n",
       "      <td>0</td>\n",
       "      <td>0</td>\n",
       "      <td>0</td>\n",
       "      <td>NaN</td>\n",
       "      <td>1</td>\n",
       "      <td>0</td>\n",
       "      <td>1</td>\n",
       "      <td>0</td>\n",
       "      <td>1</td>\n",
       "    </tr>\n",
       "    <tr>\n",
       "      <th>3115</th>\n",
       "      <td>2</td>\n",
       "      <td>2009</td>\n",
       "      <td>2.009092e+09</td>\n",
       "      <td>TB</td>\n",
       "      <td>BUF</td>\n",
       "      <td>2.0</td>\n",
       "      <td>2009-09-20</td>\n",
       "      <td>327.0</td>\n",
       "      <td>327.0</td>\n",
       "      <td>327.0</td>\n",
       "      <td>0.0</td>\n",
       "      <td>23.0</td>\n",
       "      <td>4.0</td>\n",
       "      <td>NaN</td>\n",
       "      <td>0.0</td>\n",
       "      <td>0.0</td>\n",
       "      <td>(Pass formation) TWO-POINT CONVERSION ATTEMPT....</td>\n",
       "      <td>pass</td>\n",
       "      <td>3.0</td>\n",
       "      <td>1.0</td>\n",
       "      <td>1.0</td>\n",
       "      <td>3.0</td>\n",
       "      <td>29.0</td>\n",
       "      <td>20.0</td>\n",
       "      <td>20.0</td>\n",
       "      <td>29.0</td>\n",
       "      <td>-9.0</td>\n",
       "      <td>0.150597</td>\n",
       "      <td>0</td>\n",
       "      <td>0</td>\n",
       "      <td>0</td>\n",
       "      <td>0</td>\n",
       "      <td>NaN</td>\n",
       "      <td>0</td>\n",
       "      <td>0</td>\n",
       "      <td>1</td>\n",
       "      <td>0</td>\n",
       "      <td>1</td>\n",
       "    </tr>\n",
       "  </tbody>\n",
       "</table>\n",
       "</div>"
      ],
      "text/plain": [
       "      week  year       game_id posteam defteam  yardline_100  game_date  \\\n",
       "985      1  2009  2.009091e+09     DEN     CIN           2.0 2009-09-13   \n",
       "1592     1  2009  2.009091e+09      GB     CHI           2.0 2009-09-13   \n",
       "1713     1  2009  2.009091e+09      NE     BUF           2.0 2009-09-14   \n",
       "1717     1  2009  2.009091e+09      NE     BUF           2.0 2009-09-14   \n",
       "3115     2  2009  2.009092e+09      TB     BUF           2.0 2009-09-20   \n",
       "\n",
       "      quarter_seconds_remaining  half_seconds_remaining  \\\n",
       "985                        11.0                    11.0   \n",
       "1592                       71.0                    71.0   \n",
       "1713                      126.0                   126.0   \n",
       "1717                       50.0                    50.0   \n",
       "3115                      327.0                   327.0   \n",
       "\n",
       "      game_seconds_remaining  quarter_end  drive  qtr  down  goal_to_go  \\\n",
       "985                     11.0          0.0   21.0  4.0   NaN         0.0   \n",
       "1592                    71.0          0.0   24.0  4.0   NaN         0.0   \n",
       "1713                   126.0          0.0   16.0  4.0   NaN         0.0   \n",
       "1717                    50.0          0.0   18.0  4.0   NaN         0.0   \n",
       "3115                   327.0          0.0   23.0  4.0   NaN         0.0   \n",
       "\n",
       "      ydstogo                                               desc play_type  \\\n",
       "985       0.0  (Pass formation) TWO-POINT CONVERSION ATTEMPT....      pass   \n",
       "1592      0.0  TWO-POINT CONVERSION ATTEMPT. A.Rodgers pass t...      pass   \n",
       "1713      0.0  TWO-POINT CONVERSION ATTEMPT. T.Brady pass to ...      pass   \n",
       "1717      0.0  TWO-POINT CONVERSION ATTEMPT. T.Brady pass to ...      pass   \n",
       "3115      0.0  (Pass formation) TWO-POINT CONVERSION ATTEMPT....      pass   \n",
       "\n",
       "      home_timeouts_remaining  away_timeouts_remaining  \\\n",
       "985                       2.0                      0.0   \n",
       "1592                      2.0                      0.0   \n",
       "1713                      3.0                      2.0   \n",
       "1717                      3.0                      2.0   \n",
       "3115                      3.0                      1.0   \n",
       "\n",
       "      posteam_timeouts_remaining  defteam_timeouts_remaining  \\\n",
       "985                          0.0                         2.0   \n",
       "1592                         2.0                         0.0   \n",
       "1713                         3.0                         2.0   \n",
       "1717                         3.0                         2.0   \n",
       "3115                         1.0                         3.0   \n",
       "\n",
       "      total_home_score  total_away_score  posteam_score  defteam_score  \\\n",
       "985                7.0              12.0           12.0            7.0   \n",
       "1592              21.0              15.0           19.0           15.0   \n",
       "1713              19.0              23.0           19.0           23.0   \n",
       "1717              25.0              23.0           25.0           23.0   \n",
       "3115              29.0              20.0           20.0           29.0   \n",
       "\n",
       "      score_differential        wp  dome  temp_range_Cold  \\\n",
       "985                  5.0  0.958721     0                0   \n",
       "1592                 4.0  0.932944     0                0   \n",
       "1713                -4.0  0.257564     0                0   \n",
       "1717                 2.0  0.884033     0                0   \n",
       "3115                -9.0  0.150597     0                0   \n",
       "\n",
       "      temp_range_Moderate  precipitation  wind_speed  posteam_home  own_side  \\\n",
       "985                     0              0         NaN             0         0   \n",
       "1592                    0              0         NaN             1         0   \n",
       "1713                    0              0         NaN             1         0   \n",
       "1717                    0              0         NaN             1         0   \n",
       "3115                    0              0         NaN             0         0   \n",
       "\n",
       "      second_half  effective_run  effective_pass  \n",
       "985             1              0               1  \n",
       "1592            1              0               1  \n",
       "1713            1              0               1  \n",
       "1717            1              0               1  \n",
       "3115            1              0               1  "
      ]
     },
     "execution_count": 37,
     "metadata": {},
     "output_type": "execute_result"
    }
   ],
   "source": [
    "df[df['down'].isnull()].head()"
   ]
  },
  {
   "cell_type": "markdown",
   "metadata": {},
   "source": [
    "It appears that each play with a missing down is a two-point conversion, a botched PAT attempt, or some kickoffs were labeld as qb kneels in the endzone. Let's check."
   ]
  },
  {
   "cell_type": "code",
   "execution_count": 38,
   "metadata": {},
   "outputs": [
    {
     "data": {
      "text/plain": [
       "True"
      ]
     },
     "execution_count": 38,
     "metadata": {},
     "output_type": "execute_result"
    }
   ],
   "source": [
    "counter = 0\n",
    "for row in df['desc']:\n",
    "    if 'TWO-POINT' in row:\n",
    "        counter +=1\n",
    "counter == df[df['down'].isnull()].shape[0] - df[(df['down'].isnull()) & ~(df['desc'].str.contains('TWO-POINT')) &\n",
    "                                                 df['desc'].str.contains('kicks')].shape[0]"
   ]
  },
  {
   "cell_type": "code",
   "execution_count": 39,
   "metadata": {},
   "outputs": [
    {
     "data": {
      "text/plain": [
       "0.00023954256702525464"
      ]
     },
     "execution_count": 39,
     "metadata": {},
     "output_type": "execute_result"
    }
   ],
   "source": [
    "df[(df['down'].isnull()) & ~(df['desc'].str.contains('TWO-POINT'))].shape[0]/df.shape[0]"
   ]
  },
  {
   "cell_type": "markdown",
   "metadata": {},
   "source": [
    "All downs that are missing are kickoffs or two-point conversions. For the purposes of this project, I am going to drop the kickoffs & two-point conversions (less than 0.02% of plays)."
   ]
  },
  {
   "cell_type": "code",
   "execution_count": 40,
   "metadata": {},
   "outputs": [],
   "source": [
    "df = df.dropna(subset=['down'])"
   ]
  },
  {
   "cell_type": "markdown",
   "metadata": {},
   "source": [
    "Next, we need to look posteam_score, defteam_score, and score_differential. The drops above seem to have gotten rid of those."
   ]
  },
  {
   "cell_type": "code",
   "execution_count": 41,
   "metadata": {},
   "outputs": [
    {
     "data": {
      "text/plain": [
       "(0, 38)"
      ]
     },
     "execution_count": 41,
     "metadata": {},
     "output_type": "execute_result"
    }
   ],
   "source": [
    "df[df['posteam_score'].isnull()].shape"
   ]
  },
  {
   "cell_type": "code",
   "execution_count": 42,
   "metadata": {},
   "outputs": [
    {
     "data": {
      "text/plain": [
       "(0, 38)"
      ]
     },
     "execution_count": 42,
     "metadata": {},
     "output_type": "execute_result"
    }
   ],
   "source": [
    "df[df['defteam_score'].isnull()].shape"
   ]
  },
  {
   "cell_type": "code",
   "execution_count": 43,
   "metadata": {},
   "outputs": [
    {
     "data": {
      "text/plain": [
       "(0, 38)"
      ]
     },
     "execution_count": 43,
     "metadata": {},
     "output_type": "execute_result"
    }
   ],
   "source": [
    "df[df['score_differential'].isnull()].shape"
   ]
  },
  {
   "cell_type": "markdown",
   "metadata": {},
   "source": [
    "Next, I am going to drop where win probability is null since that calculation was done outside of this project."
   ]
  },
  {
   "cell_type": "code",
   "execution_count": 44,
   "metadata": {},
   "outputs": [],
   "source": [
    "df = df.dropna(subset=['wp'])"
   ]
  },
  {
   "cell_type": "markdown",
   "metadata": {},
   "source": [
    "The only nulls we have left are wind_speed which simply was not collected by the source NFLWeather.com consistently until 2015. For now, we are going to leave the nulls and ignore the variable."
   ]
  },
  {
   "cell_type": "code",
   "execution_count": 45,
   "metadata": {
    "scrolled": true
   },
   "outputs": [
    {
     "data": {
      "text/plain": [
       "wind_speed                96965\n",
       "effective_pass                0\n",
       "half_seconds_remaining        0\n",
       "ydstogo                       0\n",
       "goal_to_go                    0\n",
       "dtype: int64"
      ]
     },
     "execution_count": 45,
     "metadata": {},
     "output_type": "execute_result"
    }
   ],
   "source": [
    "df.isnull().sum().sort_values(ascending=False).head()"
   ]
  },
  {
   "cell_type": "markdown",
   "metadata": {},
   "source": [
    "Finally, let's save the clean csv back to S3."
   ]
  },
  {
   "cell_type": "code",
   "execution_count": 46,
   "metadata": {},
   "outputs": [],
   "source": [
    "fs = s3fs.S3FileSystem(anon=False,key='AWS KEY',secret='AWS SECRET KEY')\n",
    "\n",
    "bucket = 'nfl-play-by-play-capstone'\n",
    "\n",
    "with fs.open(f'{bucket}/nfl_play_by_play_with_weather_2009_2018_clean.csv','w') as f:\n",
    "    df.to_csv(f)"
   ]
  }
 ],
 "metadata": {
  "kernelspec": {
   "display_name": "Python 3",
   "language": "python",
   "name": "python3"
  },
  "language_info": {
   "codemirror_mode": {
    "name": "ipython",
    "version": 3
   },
   "file_extension": ".py",
   "mimetype": "text/x-python",
   "name": "python",
   "nbconvert_exporter": "python",
   "pygments_lexer": "ipython3",
   "version": "3.6.8"
  }
 },
 "nbformat": 4,
 "nbformat_minor": 2
}
