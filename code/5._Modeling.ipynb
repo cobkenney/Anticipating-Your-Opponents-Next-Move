{
 "cells": [
  {
   "cell_type": "markdown",
   "metadata": {},
   "source": [
    "# Modeling"
   ]
  },
  {
   "cell_type": "markdown",
   "metadata": {},
   "source": [
    "In this notebook, I aim to first evaluate different models. After I determine the best model for this problem, I will optimize that model, and then interpret the results.\n",
    "\n",
    "**Please Note: Restarting this notebook will cause errors in the code since all the data is not stored locally.**"
   ]
  },
  {
   "cell_type": "markdown",
   "metadata": {},
   "source": [
    "## Contents\n",
    "\n",
    "[Finding Optimal Model](#Finding-Optimal-Model)<br>\n",
    "[Optimizing Best Model](#Optimizing-Best-Model)<br>\n",
    "[Interpretting Results](#Interpretting-Results)"
   ]
  },
  {
   "cell_type": "code",
   "execution_count": 1,
   "metadata": {},
   "outputs": [
    {
     "name": "stderr",
     "output_type": "stream",
     "text": [
      "Using TensorFlow backend.\n"
     ]
    }
   ],
   "source": [
    "import pandas as pd\n",
    "import s3fs\n",
    "import numpy as np\n",
    "import matplotlib.pyplot as plt\n",
    "import seaborn as sns\n",
    "\n",
    "from sklearn.model_selection import train_test_split, GridSearchCV\n",
    "from sklearn.metrics import accuracy_score, confusion_matrix\n",
    "from sklearn.preprocessing import StandardScaler\n",
    "\n",
    "from sklearn.linear_model import LogisticRegression\n",
    "from sklearn.naive_bayes import GaussianNB\n",
    "from sklearn.ensemble import RandomForestClassifier, ExtraTreesClassifier\n",
    "\n",
    "import xgboost as xgb\n",
    "\n",
    "from keras.models import Sequential\n",
    "from keras.layers import Dense\n",
    "\n",
    "pd.set_option('display.max_columns', 999)\n",
    "pd.set_option('display.max_rows', 999999)\n",
    "\n",
    "import warnings\n",
    "warnings.filterwarnings(\"ignore\")"
   ]
  },
  {
   "cell_type": "code",
   "execution_count": 2,
   "metadata": {},
   "outputs": [],
   "source": [
    "fs = s3fs.S3FileSystem(anon=False,key='AWS Key',secret='AWS SECRET KEY')\n",
    "\n",
    "key = 'nfl_play_by_play_with_weather_model.csv'\n",
    "bucket = 'nfl-play-by-play-capstone'\n",
    "\n",
    "df = pd.read_csv(fs.open('{}/{}'.format(bucket, key),\n",
    "                         mode='rb')).drop(columns=['Unnamed: 0'])"
   ]
  },
  {
   "cell_type": "markdown",
   "metadata": {},
   "source": [
    "### Finding Optimal Model"
   ]
  },
  {
   "cell_type": "markdown",
   "metadata": {},
   "source": [
    "In this section I evaluate the performance of various models in order to choose the best model available. It should be noted that I chose to use the default model or in some cases where there is no true default (i.e. Neural Network) I chose to use a very simple model. I could have spent time optimizing each model and then comparing their results. Instead I chose to compare their baseline results, choose the best performer, and then optimize that model."
   ]
  },
  {
   "cell_type": "markdown",
   "metadata": {},
   "source": [
    "The first step in evaluating models is determining what metric I want to optimize. I chose accuracy because our classes are not very unbalanced, and the cost of false negatives and false positives are fairly equal in my mind. If the classification was something along the lines of fraud detection where the cost of a false negative is much higher than a false positive, I would want to optimize for something like AUC. Here is a great resource that explains the difference between the two: [AUC vs. Accuracy](https://datascience.stackexchange.com/questions/806/advantages-of-auc-vs-standard-accuracy). <br>\n",
    "\n",
    "Now that I have chosen accuracy, we need to take a look at the baseline accuracy that we need to beat."
   ]
  },
  {
   "cell_type": "code",
   "execution_count": 3,
   "metadata": {},
   "outputs": [
    {
     "data": {
      "text/plain": [
       "(0.5785119585892918, 0.42148804141070817)"
      ]
     },
     "execution_count": 3,
     "metadata": {},
     "output_type": "execute_result"
    }
   ],
   "source": [
    "df['effective_pass'].mean(), df['effective_run'].mean()"
   ]
  },
  {
   "cell_type": "markdown",
   "metadata": {},
   "source": [
    "The baseline is 57.8% since the majority class (pass) occurs 57.8% of the time in our dataset. The next step is prepare the indepedent (X) and dependent variables (y). I will split the data into a training and testing set in order to evaluate the models' performance on unseen data (test data). We are going to be predicting whether or not something is a run (positive case)."
   ]
  },
  {
   "cell_type": "code",
   "execution_count": 4,
   "metadata": {},
   "outputs": [],
   "source": [
    "X = df.drop(columns=['effective_run','effective_pass','posteam','defteam'])\n",
    "y = df['effective_run']\n",
    "X_train, X_test, y_train, y_test = train_test_split(X,y, random_state=42)"
   ]
  },
  {
   "cell_type": "markdown",
   "metadata": {},
   "source": [
    "The next step is to create a function that will run different models and return their performance. I chose to evaluate these models: RandomForestClassifier, ExtraTreesClassifier, LogisticRegression, GaussianNB, XGBoost, and a simple neural network."
   ]
  },
  {
   "cell_type": "code",
   "execution_count": 5,
   "metadata": {},
   "outputs": [],
   "source": [
    "def classification_models(X_train, X_test, y_train, y_test):\n",
    "    \n",
    "    models = []\n",
    "    for i in [RandomForestClassifier,ExtraTreesClassifier,LogisticRegression,GaussianNB]:\n",
    "        print(f\"Fitting {i} ...\")\n",
    "        model_dict = {}\n",
    "        model = i()\n",
    "        model.fit(X_train,y_train)\n",
    "        model_dict['Model'] = i\n",
    "        model_dict['Train Score'] = model.score(X_train,y_train)\n",
    "        model_dict['Test Score'] = model.score(X_test, y_test)\n",
    "        models.append(model_dict)\n",
    "    \n",
    "    for i in [1]:\n",
    "        print(\"Fitting XGBoost ...\")\n",
    "        model_dict = {}\n",
    "        xgb_model = xgb.XGBClassifier(objective=\"binary:logistic\", random_state=42, eval_metric=[\"error\"],\n",
    "                                      silent=1)\n",
    "        xgb_model.fit(X_train, y_train, early_stopping_rounds=5,eval_set=[(X_test, y_test)])\n",
    "        model_dict['Model'] = 'XGBoost'\n",
    "        model_dict['Train Score'] = xgb_model.score(X_train,y_train)\n",
    "        model_dict['Test Score'] = xgb_model.score(X_test, y_test)\n",
    "        models.append(model_dict)\n",
    "    \n",
    "    for i in [1]:\n",
    "        model_dict = {}\n",
    "        print(\"Fitting Neural Network...\")\n",
    "        ss = StandardScaler()\n",
    "        X_train_sc = ss.fit_transform(X_train)\n",
    "        X_test_sc = ss.transform(X_test)\n",
    "        nn = Sequential()\n",
    "        nn.add(Dense(32,activation='relu',input_shape = (X_train_sc.shape[1],)))\n",
    "        nn.add(Dense(1,activation='sigmoid'))\n",
    "        nn.compile(loss='binary_crossentropy',optimizer='adam',metrics = ['accuracy'])\n",
    "        nn.fit(X_train_sc,y_train,epochs=50,batch_size=256,validation_data=(X_test_sc,y_test),verbose=0)\n",
    "        model_dict['Model'] = 'Neural Network'\n",
    "        model_dict['Train Score'] = accuracy_score(y_train, nn.predict_classes(X_train_sc))\n",
    "        model_dict['Test Score'] = accuracy_score(y_test, nn.predict_classes(X_test_sc))\n",
    "        models.append(model_dict)\n",
    "    \n",
    "    return pd.DataFrame(models).sort_values(by='Test Score',ascending=False)"
   ]
  },
  {
   "cell_type": "markdown",
   "metadata": {},
   "source": [
    "The function does take a few minutes to run, so I commented out the code below and saved the output in the datasets folder.\n",
    "\n",
    "```python \n",
    "models = classification_models(X_train, X_test, y_train, y_test)\n",
    "models.to_csv('../datasets/model_performance.csv',index=False)\n",
    "```"
   ]
  },
  {
   "cell_type": "code",
   "execution_count": 6,
   "metadata": {},
   "outputs": [
    {
     "data": {
      "text/html": [
       "<div>\n",
       "<style scoped>\n",
       "    .dataframe tbody tr th:only-of-type {\n",
       "        vertical-align: middle;\n",
       "    }\n",
       "\n",
       "    .dataframe tbody tr th {\n",
       "        vertical-align: top;\n",
       "    }\n",
       "\n",
       "    .dataframe thead th {\n",
       "        text-align: right;\n",
       "    }\n",
       "</style>\n",
       "<table border=\"1\" class=\"dataframe\">\n",
       "  <thead>\n",
       "    <tr style=\"text-align: right;\">\n",
       "      <th></th>\n",
       "      <th>Model</th>\n",
       "      <th>Test Score</th>\n",
       "      <th>Train Score</th>\n",
       "    </tr>\n",
       "  </thead>\n",
       "  <tbody>\n",
       "    <tr>\n",
       "      <th>0</th>\n",
       "      <td>XGBoost</td>\n",
       "      <td>0.696494</td>\n",
       "      <td>0.701464</td>\n",
       "    </tr>\n",
       "    <tr>\n",
       "      <th>1</th>\n",
       "      <td>Neural Network</td>\n",
       "      <td>0.694324</td>\n",
       "      <td>0.712636</td>\n",
       "    </tr>\n",
       "    <tr>\n",
       "      <th>2</th>\n",
       "      <td>&lt;class 'sklearn.ensemble.forest.RandomForestCl...</td>\n",
       "      <td>0.676250</td>\n",
       "      <td>0.984213</td>\n",
       "    </tr>\n",
       "    <tr>\n",
       "      <th>3</th>\n",
       "      <td>&lt;class 'sklearn.ensemble.forest.ExtraTreesClas...</td>\n",
       "      <td>0.669215</td>\n",
       "      <td>0.999992</td>\n",
       "    </tr>\n",
       "    <tr>\n",
       "      <th>4</th>\n",
       "      <td>&lt;class 'sklearn.linear_model.logistic.Logistic...</td>\n",
       "      <td>0.659412</td>\n",
       "      <td>0.664003</td>\n",
       "    </tr>\n",
       "    <tr>\n",
       "      <th>5</th>\n",
       "      <td>&lt;class 'sklearn.naive_bayes.GaussianNB'&gt;</td>\n",
       "      <td>0.625447</td>\n",
       "      <td>0.625419</td>\n",
       "    </tr>\n",
       "  </tbody>\n",
       "</table>\n",
       "</div>"
      ],
      "text/plain": [
       "                                               Model  Test Score  Train Score\n",
       "0                                            XGBoost    0.696494     0.701464\n",
       "1                                     Neural Network    0.694324     0.712636\n",
       "2  <class 'sklearn.ensemble.forest.RandomForestCl...    0.676250     0.984213\n",
       "3  <class 'sklearn.ensemble.forest.ExtraTreesClas...    0.669215     0.999992\n",
       "4  <class 'sklearn.linear_model.logistic.Logistic...    0.659412     0.664003\n",
       "5           <class 'sklearn.naive_bayes.GaussianNB'>    0.625447     0.625419"
      ]
     },
     "execution_count": 6,
     "metadata": {},
     "output_type": "execute_result"
    }
   ],
   "source": [
    "pd.read_csv('../datasets/model_performance.csv')"
   ]
  },
  {
   "cell_type": "markdown",
   "metadata": {},
   "source": [
    "The XGBoost and Neural Network seemed to perform the best of the 6 models I chose. The Neural Network seems a little more overfit when comparing training and testing scores. I chose to implement and optimize the XGBoost model for interpretability and it's slightly better performance (although performance on all of these could most likely be improved with GridSearching hyperparameters)."
   ]
  },
  {
   "cell_type": "markdown",
   "metadata": {},
   "source": [
    "### Optimizing Best Model"
   ]
  },
  {
   "cell_type": "markdown",
   "metadata": {},
   "source": [
    "In this section I ran a gridsearch on a few hyperparameters for the XGBoost model. I chose to look at subsample and max_depth. Their definitions can be found in the XGBoost [documentation](https://xgboost.readthedocs.io/en/latest/parameter.html). Decreasing subsample can make the model less overfit, and increasing max depth can make the model overfit, so gridsearching over the two seemed to create a balance."
   ]
  },
  {
   "cell_type": "markdown",
   "metadata": {},
   "source": [
    "This code is commented out because it takes approximately and hour to run on this particular dataset.\n",
    "\n",
    "```python \n",
    "xgb_params = {\n",
    "        'subsample': [0.5, 0.7, 1.0],\n",
    "        'max_depth': [6, 8, 10, 12],\n",
    "}\n",
    "\n",
    "xgb_gridsearch = GridSearchCV(\n",
    "    xgb.XGBClassifier(objective='binary:logistic', random_state=42, eval_metric = ['error']),\n",
    "    xgb_params,\n",
    "    cv=3,\n",
    "    n_jobs=8,\n",
    "    verbose=1,\n",
    "    return_train_score=False\n",
    ")\n",
    "\n",
    "xgb_gridsearch.fit(X_train, y_train,early_stopping_rounds=5,eval_set=[(X_test, y_test)])\n",
    "\n",
    "print(xgb_gridsearch.best_score_)\n",
    "print(xgb_gridsearch.best_params_)\n",
    "```\n",
    "\n",
    "**Results:**<br>\n",
    "61 minutes to run<br>\n",
    "Best Score: 0.7078127533604693<br>\n",
    "Best Parameters: {'max_depth': 8, 'subsample': 0.7}<br>"
   ]
  },
  {
   "cell_type": "markdown",
   "metadata": {},
   "source": [
    "I will then fit the model with the best parameters."
   ]
  },
  {
   "cell_type": "code",
   "execution_count": 7,
   "metadata": {
    "scrolled": false
   },
   "outputs": [
    {
     "name": "stdout",
     "output_type": "stream",
     "text": [
      "[0]\tvalidation_0-error:0.308433\n",
      "Will train until validation_0-error hasn't improved in 5 rounds.\n",
      "[1]\tvalidation_0-error:0.307922\n",
      "[2]\tvalidation_0-error:0.305203\n",
      "[3]\tvalidation_0-error:0.305552\n",
      "[4]\tvalidation_0-error:0.304267\n",
      "[5]\tvalidation_0-error:0.303556\n",
      "[6]\tvalidation_0-error:0.303332\n",
      "[7]\tvalidation_0-error:0.302558\n",
      "[8]\tvalidation_0-error:0.302209\n",
      "[9]\tvalidation_0-error:0.300775\n",
      "[10]\tvalidation_0-error:0.300725\n",
      "[11]\tvalidation_0-error:0.300388\n",
      "[12]\tvalidation_0-error:0.299964\n",
      "[13]\tvalidation_0-error:0.299415\n",
      "[14]\tvalidation_0-error:0.29919\n",
      "[15]\tvalidation_0-error:0.298879\n",
      "[16]\tvalidation_0-error:0.298679\n",
      "[17]\tvalidation_0-error:0.298617\n",
      "[18]\tvalidation_0-error:0.298193\n",
      "[19]\tvalidation_0-error:0.298155\n",
      "[20]\tvalidation_0-error:0.297981\n",
      "[21]\tvalidation_0-error:0.297856\n",
      "[22]\tvalidation_0-error:0.297694\n",
      "[23]\tvalidation_0-error:0.297282\n",
      "[24]\tvalidation_0-error:0.296846\n",
      "[25]\tvalidation_0-error:0.296621\n",
      "[26]\tvalidation_0-error:0.296409\n",
      "[27]\tvalidation_0-error:0.296434\n",
      "[28]\tvalidation_0-error:0.29606\n",
      "[29]\tvalidation_0-error:0.29586\n",
      "[30]\tvalidation_0-error:0.29611\n",
      "[31]\tvalidation_0-error:0.295835\n",
      "[32]\tvalidation_0-error:0.295798\n",
      "[33]\tvalidation_0-error:0.295573\n",
      "[34]\tvalidation_0-error:0.295748\n",
      "[35]\tvalidation_0-error:0.295274\n",
      "[36]\tvalidation_0-error:0.295112\n",
      "[37]\tvalidation_0-error:0.29475\n",
      "[38]\tvalidation_0-error:0.294763\n",
      "[39]\tvalidation_0-error:0.29465\n",
      "[40]\tvalidation_0-error:0.29495\n",
      "[41]\tvalidation_0-error:0.294912\n",
      "[42]\tvalidation_0-error:0.2948\n",
      "[43]\tvalidation_0-error:0.294463\n",
      "[44]\tvalidation_0-error:0.294239\n",
      "[45]\tvalidation_0-error:0.294027\n",
      "[46]\tvalidation_0-error:0.294226\n",
      "[47]\tvalidation_0-error:0.293952\n",
      "[48]\tvalidation_0-error:0.293852\n",
      "[49]\tvalidation_0-error:0.293777\n",
      "[50]\tvalidation_0-error:0.294077\n",
      "[51]\tvalidation_0-error:0.293815\n",
      "[52]\tvalidation_0-error:0.293802\n",
      "[53]\tvalidation_0-error:0.29379\n",
      "[54]\tvalidation_0-error:0.29379\n",
      "Stopping. Best iteration:\n",
      "[49]\tvalidation_0-error:0.293777\n",
      "\n"
     ]
    }
   ],
   "source": [
    "xgb_model = xgb.XGBClassifier(objective=\"binary:logistic\", random_state=42, \n",
    "                              eval_metric=[\"error\"], max_depth = 8, subsample=0.7)\n",
    "xgb_model.fit(X_train, y_train, early_stopping_rounds=5,eval_set=[(X_test, y_test)])\n",
    "\n",
    "y_pred = xgb_model.predict(X_test)"
   ]
  },
  {
   "cell_type": "markdown",
   "metadata": {},
   "source": [
    "### Interpretting Results"
   ]
  },
  {
   "cell_type": "markdown",
   "metadata": {},
   "source": [
    "In this section I aim to evaluate the overall results, and then dig deeper to see how the model's accuracy changed given the play circumstances (down, quarter, distance, team, etc.)."
   ]
  },
  {
   "cell_type": "code",
   "execution_count": 8,
   "metadata": {
    "scrolled": true
   },
   "outputs": [
    {
     "name": "stdout",
     "output_type": "stream",
     "text": [
      "Test Accuracy Score: 0.7062227932096841\n",
      "Train Accuracy Score: 0.7205020850916983\n"
     ]
    }
   ],
   "source": [
    "print(f'Test Accuracy Score: {xgb_model.score(X_test,y_test)}')\n",
    "print(f'Train Accuracy Score: {xgb_model.score(X_train,y_train)}')"
   ]
  },
  {
   "cell_type": "markdown",
   "metadata": {},
   "source": [
    "As you can see, the accuracy rate of 70.6% is well above the baseline of 57.8%, but there is probably still room for improvement."
   ]
  },
  {
   "cell_type": "code",
   "execution_count": 9,
   "metadata": {},
   "outputs": [
    {
     "name": "stdout",
     "output_type": "stream",
     "text": [
      "Specificity: 0.7277\n",
      "Sensitivity/Recall: 0.6767\n"
     ]
    },
    {
     "data": {
      "text/html": [
       "<div>\n",
       "<style scoped>\n",
       "    .dataframe tbody tr th:only-of-type {\n",
       "        vertical-align: middle;\n",
       "    }\n",
       "\n",
       "    .dataframe tbody tr th {\n",
       "        vertical-align: top;\n",
       "    }\n",
       "\n",
       "    .dataframe thead th {\n",
       "        text-align: right;\n",
       "    }\n",
       "</style>\n",
       "<table border=\"1\" class=\"dataframe\">\n",
       "  <thead>\n",
       "    <tr style=\"text-align: right;\">\n",
       "      <th></th>\n",
       "      <th>Pred Pass</th>\n",
       "      <th>Pred Run</th>\n",
       "    </tr>\n",
       "  </thead>\n",
       "  <tbody>\n",
       "    <tr>\n",
       "      <th>True Pass</th>\n",
       "      <td>33760</td>\n",
       "      <td>12630</td>\n",
       "    </tr>\n",
       "    <tr>\n",
       "      <th>True Run</th>\n",
       "      <td>10923</td>\n",
       "      <td>22860</td>\n",
       "    </tr>\n",
       "  </tbody>\n",
       "</table>\n",
       "</div>"
      ],
      "text/plain": [
       "           Pred Pass   Pred Run\n",
       "True Pass      33760      12630\n",
       "True Run       10923      22860"
      ]
     },
     "execution_count": 9,
     "metadata": {},
     "output_type": "execute_result"
    }
   ],
   "source": [
    "tn, fp, fn, tp = confusion_matrix(y_test, y_pred).ravel()\n",
    "print(f'Specificity: {round(tn/(tn+fp),4)}')\n",
    "print(f'Sensitivity/Recall: {round(tp/(tp+fn),4)}')\n",
    "pd.DataFrame(confusion_matrix(y_test, y_pred), \n",
    "                   index=['True Pass', 'True Run'], columns=['Pred Pass', ' Pred Run'])"
   ]
  },
  {
   "cell_type": "markdown",
   "metadata": {},
   "source": [
    "Since our specificity is higher than our sensitivity, we are better able to predict pass (negative case) than run (positive case). Now let's take a look at the importance features in this tree-based model."
   ]
  },
  {
   "cell_type": "code",
   "execution_count": 10,
   "metadata": {
    "scrolled": false
   },
   "outputs": [
    {
     "data": {
      "image/png": "[encoded data removed]",
      "text/plain": [
       "<Figure size 864x576 with 1 Axes>"
      ]
     },
     "metadata": {
      "needs_background": "light"
     },
     "output_type": "display_data"
    }
   ],
   "source": [
    "feature_importances = pd.DataFrame(zip(X_train.columns,xgb_model.feature_importances_))\n",
    "feature_importances.rename(columns={0:'Feature',1:'Feature Importance'},inplace=True)\n",
    "top_features = feature_importances.sort_values(by=['Feature Importance']).tail(20)\n",
    "plt.figure(figsize=(12,8))\n",
    "sns.barplot(x=top_features['Feature Importance'],y=top_features['Feature'],palette='coolwarm')\n",
    "plt.xticks(fontsize=14)\n",
    "plt.yticks(fontsize=14)\n",
    "plt.ylabel('Top 20 Features',fontsize=16)\n",
    "plt.xlabel('Feature Importance',fontsize=16)\n",
    "plt.title('XGB Feature Importances for Predicting Run vs Pass Plays in the NFL',fontsize=20);"
   ]
  },
  {
   "cell_type": "markdown",
   "metadata": {},
   "source": [
    "Down was by far the most important feature in predicting play type, but things like yards to go and game seconds remaining were also very important. The tendency of the possession team (run or pass) also proved to be a helpful feature to add."
   ]
  },
  {
   "cell_type": "markdown",
   "metadata": {},
   "source": [
    "Now let's dive deeper to see what types of scenarios resulted in a higher accuracy than others."
   ]
  },
  {
   "cell_type": "code",
   "execution_count": 11,
   "metadata": {},
   "outputs": [
    {
     "data": {
      "text/html": [
       "<div>\n",
       "<style scoped>\n",
       "    .dataframe tbody tr th:only-of-type {\n",
       "        vertical-align: middle;\n",
       "    }\n",
       "\n",
       "    .dataframe tbody tr th {\n",
       "        vertical-align: top;\n",
       "    }\n",
       "\n",
       "    .dataframe thead th {\n",
       "        text-align: right;\n",
       "    }\n",
       "</style>\n",
       "<table border=\"1\" class=\"dataframe\">\n",
       "  <thead>\n",
       "    <tr style=\"text-align: right;\">\n",
       "      <th></th>\n",
       "      <th>correct</th>\n",
       "      <th>baseline</th>\n",
       "    </tr>\n",
       "    <tr>\n",
       "      <th>down</th>\n",
       "      <th></th>\n",
       "      <th></th>\n",
       "    </tr>\n",
       "  </thead>\n",
       "  <tbody>\n",
       "    <tr>\n",
       "      <th>1.0</th>\n",
       "      <td>0.648432</td>\n",
       "      <td>0.516141</td>\n",
       "    </tr>\n",
       "    <tr>\n",
       "      <th>2.0</th>\n",
       "      <td>0.685490</td>\n",
       "      <td>0.573104</td>\n",
       "    </tr>\n",
       "    <tr>\n",
       "      <th>3.0</th>\n",
       "      <td>0.856127</td>\n",
       "      <td>0.785627</td>\n",
       "    </tr>\n",
       "    <tr>\n",
       "      <th>4.0</th>\n",
       "      <td>0.814092</td>\n",
       "      <td>0.632909</td>\n",
       "    </tr>\n",
       "  </tbody>\n",
       "</table>\n",
       "</div>"
      ],
      "text/plain": [
       "       correct  baseline\n",
       "down                    \n",
       "1.0   0.648432  0.516141\n",
       "2.0   0.685490  0.573104\n",
       "3.0   0.856127  0.785627\n",
       "4.0   0.814092  0.632909"
      ]
     },
     "execution_count": 11,
     "metadata": {},
     "output_type": "execute_result"
    }
   ],
   "source": [
    "X_test['pred'] = y_pred\n",
    "X_test['true'] = y_test\n",
    "\n",
    "test_mask = [X_test['pred'] == X_test['true']] \n",
    "\n",
    "X_test['correct'] = np.select(test_mask, [1], 0)\n",
    "\n",
    "baselines = []\n",
    "for i in list(df.groupby(['down'])[['effective_run']].mean().values):\n",
    "    if i[0] < 0.5:\n",
    "        baselines.append(np.round((1-i[0]),6))\n",
    "    else:\n",
    "        baselines.append(np.round(i[0],6))\n",
    "\n",
    "\n",
    "down = X_test.groupby('down')[['correct']].mean()\n",
    "down['baseline'] = baselines\n",
    "down"
   ]
  },
  {
   "cell_type": "markdown",
   "metadata": {},
   "source": [
    "Accuracy was lowest on 1st down, but highest on 3rd down. 3rd down is arguably the most important down because most teams will not go on an average 4th down. A big third down stop can really change the momentum of the game in favor of the defensive team, so I am very happy with this result. That being said, teams do pass on 78% of third down plays, so 86% accuracy is better, but not hugely better."
   ]
  },
  {
   "cell_type": "markdown",
   "metadata": {},
   "source": [
    "Now let's look at down and yardstogo segments. I am going to use the same code that I used in the feature engineering notebook to recreate the distance feature that I dropped."
   ]
  },
  {
   "cell_type": "code",
   "execution_count": 12,
   "metadata": {
    "scrolled": false
   },
   "outputs": [
    {
     "data": {
      "text/html": [
       "<div>\n",
       "<style scoped>\n",
       "    .dataframe tbody tr th:only-of-type {\n",
       "        vertical-align: middle;\n",
       "    }\n",
       "\n",
       "    .dataframe tbody tr th {\n",
       "        vertical-align: top;\n",
       "    }\n",
       "\n",
       "    .dataframe thead tr th {\n",
       "        text-align: left;\n",
       "    }\n",
       "\n",
       "    .dataframe thead tr:last-of-type th {\n",
       "        text-align: right;\n",
       "    }\n",
       "</style>\n",
       "<table border=\"1\" class=\"dataframe\">\n",
       "  <thead>\n",
       "    <tr>\n",
       "      <th></th>\n",
       "      <th></th>\n",
       "      <th colspan=\"2\" halign=\"left\">correct</th>\n",
       "      <th>baseline</th>\n",
       "    </tr>\n",
       "    <tr>\n",
       "      <th></th>\n",
       "      <th></th>\n",
       "      <th>mean</th>\n",
       "      <th>count</th>\n",
       "      <th></th>\n",
       "    </tr>\n",
       "    <tr>\n",
       "      <th>down</th>\n",
       "      <th>distance</th>\n",
       "      <th></th>\n",
       "      <th></th>\n",
       "      <th></th>\n",
       "    </tr>\n",
       "  </thead>\n",
       "  <tbody>\n",
       "    <tr>\n",
       "      <th rowspan=\"3\" valign=\"top\">1.0</th>\n",
       "      <th>Long</th>\n",
       "      <td>0.646693</td>\n",
       "      <td>33928</td>\n",
       "      <td>0.510238</td>\n",
       "    </tr>\n",
       "    <tr>\n",
       "      <th>Medium</th>\n",
       "      <td>0.661692</td>\n",
       "      <td>1005</td>\n",
       "      <td>0.588264</td>\n",
       "    </tr>\n",
       "    <tr>\n",
       "      <th>Short</th>\n",
       "      <td>0.714080</td>\n",
       "      <td>696</td>\n",
       "      <td>0.695621</td>\n",
       "    </tr>\n",
       "    <tr>\n",
       "      <th rowspan=\"3\" valign=\"top\">2.0</th>\n",
       "      <th>Long</th>\n",
       "      <td>0.700048</td>\n",
       "      <td>14479</td>\n",
       "      <td>0.648864</td>\n",
       "    </tr>\n",
       "    <tr>\n",
       "      <th>Medium</th>\n",
       "      <td>0.633553</td>\n",
       "      <td>8184</td>\n",
       "      <td>0.537981</td>\n",
       "    </tr>\n",
       "    <tr>\n",
       "      <th>Short</th>\n",
       "      <td>0.737597</td>\n",
       "      <td>4112</td>\n",
       "      <td>0.630200</td>\n",
       "    </tr>\n",
       "    <tr>\n",
       "      <th rowspan=\"3\" valign=\"top\">3.0</th>\n",
       "      <th>Long</th>\n",
       "      <td>0.892279</td>\n",
       "      <td>6981</td>\n",
       "      <td>0.863919</td>\n",
       "    </tr>\n",
       "    <tr>\n",
       "      <th>Medium</th>\n",
       "      <td>0.895158</td>\n",
       "      <td>5246</td>\n",
       "      <td>0.878845</td>\n",
       "    </tr>\n",
       "    <tr>\n",
       "      <th>Short</th>\n",
       "      <td>0.751375</td>\n",
       "      <td>4364</td>\n",
       "      <td>0.551924</td>\n",
       "    </tr>\n",
       "    <tr>\n",
       "      <th rowspan=\"3\" valign=\"top\">4.0</th>\n",
       "      <th>Long</th>\n",
       "      <td>0.918288</td>\n",
       "      <td>257</td>\n",
       "      <td>0.886386</td>\n",
       "    </tr>\n",
       "    <tr>\n",
       "      <th>Medium</th>\n",
       "      <td>0.860558</td>\n",
       "      <td>251</td>\n",
       "      <td>0.862450</td>\n",
       "    </tr>\n",
       "    <tr>\n",
       "      <th>Short</th>\n",
       "      <td>0.756716</td>\n",
       "      <td>670</td>\n",
       "      <td>0.548088</td>\n",
       "    </tr>\n",
       "  </tbody>\n",
       "</table>\n",
       "</div>"
      ],
      "text/plain": [
       "                correct         baseline\n",
       "                   mean  count          \n",
       "down distance                           \n",
       "1.0  Long      0.646693  33928  0.510238\n",
       "     Medium    0.661692   1005  0.588264\n",
       "     Short     0.714080    696  0.695621\n",
       "2.0  Long      0.700048  14479  0.648864\n",
       "     Medium    0.633553   8184  0.537981\n",
       "     Short     0.737597   4112  0.630200\n",
       "3.0  Long      0.892279   6981  0.863919\n",
       "     Medium    0.895158   5246  0.878845\n",
       "     Short     0.751375   4364  0.551924\n",
       "4.0  Long      0.918288    257  0.886386\n",
       "     Medium    0.860558    251  0.862450\n",
       "     Short     0.756716    670  0.548088"
      ]
     },
     "execution_count": 12,
     "metadata": {},
     "output_type": "execute_result"
    }
   ],
   "source": [
    "test_mask = [X_test['ydstogo'].between(0,3), X_test['ydstogo'].between(4,7), X_test['ydstogo'].between(8,100)]\n",
    "df_mask = [df['ydstogo'].between(0,3), df['ydstogo'].between(4,7), df['ydstogo'].between(8,100)]\n",
    "values = ['Short','Medium','Long']\n",
    "X_test['distance'] = np.select(test_mask, values, 0)\n",
    "df['distance'] = np.select(df_mask,values,0)\n",
    "\n",
    "baselines = []\n",
    "for i in list(df.groupby(['down','distance'])[['effective_run']].mean().values):\n",
    "    if i[0] < 0.5:\n",
    "        baselines.append(np.round((1-i[0]),6))\n",
    "    else:\n",
    "        baselines.append(np.round(i[0],6))\n",
    "\n",
    "down_distance =  X_test.groupby(['down','distance'])[['correct']].agg(['mean','count'])\n",
    "down_distance['baseline'] = baselines\n",
    "down_distance"
   ]
  },
  {
   "cell_type": "markdown",
   "metadata": {},
   "source": [
    "You can see that 4th and long has the best accuracy rate, but that makes sense because most teams wouldn't pass or run on 4th and long - they would most likely punt. But these plays (only 257 in the entire dataframe) are most likely when a team is down by a lot and desperate for points. 3rd down still proved to be an accurate down, but the 3rd and short situations were harder to predict than short and long/medium. <br><br>\n",
    "When comparing the the baseline accuracies, the model improved every situation except 4th and Medium. Given that this scenario only occured 251 times with a pass or run, I am okay with this. 3rd and short was actually the largest marginal improvement in accuracy."
   ]
  },
  {
   "cell_type": "markdown",
   "metadata": {},
   "source": [
    "Now let's look at how the accuracy changes given what quarter the play occurs in."
   ]
  },
  {
   "cell_type": "code",
   "execution_count": 13,
   "metadata": {
    "scrolled": false
   },
   "outputs": [
    {
     "data": {
      "text/html": [
       "<div>\n",
       "<style scoped>\n",
       "    .dataframe tbody tr th:only-of-type {\n",
       "        vertical-align: middle;\n",
       "    }\n",
       "\n",
       "    .dataframe tbody tr th {\n",
       "        vertical-align: top;\n",
       "    }\n",
       "\n",
       "    .dataframe thead th {\n",
       "        text-align: right;\n",
       "    }\n",
       "</style>\n",
       "<table border=\"1\" class=\"dataframe\">\n",
       "  <thead>\n",
       "    <tr style=\"text-align: right;\">\n",
       "      <th></th>\n",
       "      <th>correct</th>\n",
       "      <th>baseline</th>\n",
       "    </tr>\n",
       "    <tr>\n",
       "      <th>qtr</th>\n",
       "      <th></th>\n",
       "      <th></th>\n",
       "    </tr>\n",
       "  </thead>\n",
       "  <tbody>\n",
       "    <tr>\n",
       "      <th>1.0</th>\n",
       "      <td>0.644448</td>\n",
       "      <td>0.538603</td>\n",
       "    </tr>\n",
       "    <tr>\n",
       "      <th>2.0</th>\n",
       "      <td>0.703489</td>\n",
       "      <td>0.615784</td>\n",
       "    </tr>\n",
       "    <tr>\n",
       "      <th>3.0</th>\n",
       "      <td>0.676504</td>\n",
       "      <td>0.561167</td>\n",
       "    </tr>\n",
       "    <tr>\n",
       "      <th>4.0</th>\n",
       "      <td>0.785227</td>\n",
       "      <td>0.589670</td>\n",
       "    </tr>\n",
       "  </tbody>\n",
       "</table>\n",
       "</div>"
      ],
      "text/plain": [
       "      correct  baseline\n",
       "qtr                    \n",
       "1.0  0.644448  0.538603\n",
       "2.0  0.703489  0.615784\n",
       "3.0  0.676504  0.561167\n",
       "4.0  0.785227  0.589670"
      ]
     },
     "execution_count": 13,
     "metadata": {},
     "output_type": "execute_result"
    }
   ],
   "source": [
    "X_test.groupby('qtr')[['correct']].mean().join(1-df.groupby(['qtr'])[['effective_run']].mean()).rename(columns={\n",
    "    'effective_run':'baseline'})"
   ]
  },
  {
   "cell_type": "markdown",
   "metadata": {},
   "source": [
    "The model is better at predicting play type in the second quarter and fourth quarter."
   ]
  },
  {
   "cell_type": "markdown",
   "metadata": {},
   "source": [
    "Now let's take a look at how the model performs given a possession team."
   ]
  },
  {
   "cell_type": "code",
   "execution_count": 14,
   "metadata": {},
   "outputs": [],
   "source": [
    "X_test =  X_test.join(df[['posteam','defteam']])"
   ]
  },
  {
   "cell_type": "code",
   "execution_count": 15,
   "metadata": {
    "scrolled": true
   },
   "outputs": [
    {
     "data": {
      "text/html": [
       "<div>\n",
       "<style scoped>\n",
       "    .dataframe tbody tr th:only-of-type {\n",
       "        vertical-align: middle;\n",
       "    }\n",
       "\n",
       "    .dataframe tbody tr th {\n",
       "        vertical-align: top;\n",
       "    }\n",
       "\n",
       "    .dataframe thead th {\n",
       "        text-align: right;\n",
       "    }\n",
       "</style>\n",
       "<table border=\"1\" class=\"dataframe\">\n",
       "  <thead>\n",
       "    <tr style=\"text-align: right;\">\n",
       "      <th></th>\n",
       "      <th>correct</th>\n",
       "    </tr>\n",
       "    <tr>\n",
       "      <th>posteam</th>\n",
       "      <th></th>\n",
       "    </tr>\n",
       "  </thead>\n",
       "  <tbody>\n",
       "    <tr>\n",
       "      <th>LAC</th>\n",
       "      <td>0.742489</td>\n",
       "    </tr>\n",
       "    <tr>\n",
       "      <th>BAL</th>\n",
       "      <td>0.731520</td>\n",
       "    </tr>\n",
       "    <tr>\n",
       "      <th>SD</th>\n",
       "      <td>0.731244</td>\n",
       "    </tr>\n",
       "    <tr>\n",
       "      <th>DAL</th>\n",
       "      <td>0.728778</td>\n",
       "    </tr>\n",
       "    <tr>\n",
       "      <th>ARI</th>\n",
       "      <td>0.728124</td>\n",
       "    </tr>\n",
       "  </tbody>\n",
       "</table>\n",
       "</div>"
      ],
      "text/plain": [
       "          correct\n",
       "posteam          \n",
       "LAC      0.742489\n",
       "BAL      0.731520\n",
       "SD       0.731244\n",
       "DAL      0.728778\n",
       "ARI      0.728124"
      ]
     },
     "execution_count": 15,
     "metadata": {},
     "output_type": "execute_result"
    }
   ],
   "source": [
    "X_test.groupby('posteam')[['correct']].mean().sort_values(by='correct',ascending=False).head()"
   ]
  },
  {
   "cell_type": "code",
   "execution_count": 16,
   "metadata": {
    "scrolled": true
   },
   "outputs": [
    {
     "data": {
      "text/html": [
       "<div>\n",
       "<style scoped>\n",
       "    .dataframe tbody tr th:only-of-type {\n",
       "        vertical-align: middle;\n",
       "    }\n",
       "\n",
       "    .dataframe tbody tr th {\n",
       "        vertical-align: top;\n",
       "    }\n",
       "\n",
       "    .dataframe thead th {\n",
       "        text-align: right;\n",
       "    }\n",
       "</style>\n",
       "<table border=\"1\" class=\"dataframe\">\n",
       "  <thead>\n",
       "    <tr style=\"text-align: right;\">\n",
       "      <th></th>\n",
       "      <th>correct</th>\n",
       "    </tr>\n",
       "    <tr>\n",
       "      <th>posteam</th>\n",
       "      <th></th>\n",
       "    </tr>\n",
       "  </thead>\n",
       "  <tbody>\n",
       "    <tr>\n",
       "      <th>CAR</th>\n",
       "      <td>0.688880</td>\n",
       "    </tr>\n",
       "    <tr>\n",
       "      <th>PHI</th>\n",
       "      <td>0.678005</td>\n",
       "    </tr>\n",
       "    <tr>\n",
       "      <th>GB</th>\n",
       "      <td>0.674149</td>\n",
       "    </tr>\n",
       "    <tr>\n",
       "      <th>SF</th>\n",
       "      <td>0.673503</td>\n",
       "    </tr>\n",
       "    <tr>\n",
       "      <th>KC</th>\n",
       "      <td>0.670532</td>\n",
       "    </tr>\n",
       "  </tbody>\n",
       "</table>\n",
       "</div>"
      ],
      "text/plain": [
       "          correct\n",
       "posteam          \n",
       "CAR      0.688880\n",
       "PHI      0.678005\n",
       "GB       0.674149\n",
       "SF       0.673503\n",
       "KC       0.670532"
      ]
     },
     "execution_count": 16,
     "metadata": {},
     "output_type": "execute_result"
    }
   ],
   "source": [
    "X_test.groupby('posteam')[['correct']].mean().sort_values(by='correct',ascending=False).tail()"
   ]
  },
  {
   "cell_type": "markdown",
   "metadata": {},
   "source": [
    "The LA Chargers/SD Chargers seem to be the most predictable, while the Kansas City Chiefs seem to be the most unpredictable."
   ]
  },
  {
   "cell_type": "markdown",
   "metadata": {},
   "source": [
    "Overall, the model was able to achieve a 70.6% accuracy rate which is similar to other models I have seen out there. There is most likely room for improvement if i were to use more/different features."
   ]
  }
 ],
 "metadata": {
  "kernelspec": {
   "display_name": "Python 3",
   "language": "python",
   "name": "python3"
  },
  "language_info": {
   "codemirror_mode": {
    "name": "ipython",
    "version": 3
   },
   "file_extension": ".py",
   "mimetype": "text/x-python",
   "name": "python",
   "nbconvert_exporter": "python",
   "pygments_lexer": "ipython3",
   "version": "3.6.8"
  }
 },
 "nbformat": 4,
 "nbformat_minor": 2
}
